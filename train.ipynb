{
  "nbformat": 4,
  "nbformat_minor": 0,
  "metadata": {
    "colab": {
      "provenance": [],
      "gpuType": "T4",
      "include_colab_link": true
    },
    "kernelspec": {
      "name": "python3",
      "display_name": "Python 3"
    },
    "language_info": {
      "name": "python"
    },
    "accelerator": "GPU",
    "gpuClass": "standard"
  },
  "cells": [
    {
      "cell_type": "markdown",
      "metadata": {
        "id": "view-in-github",
        "colab_type": "text"
      },
      "source": [
        "<a href=\"https://colab.research.google.com/github/zxyup/ML_demo/blob/main/train.ipynb\" target=\"_parent\"><img src=\"https://colab.research.google.com/assets/colab-badge.svg\" alt=\"Open In Colab\"/></a>"
      ]
    },
    {
      "cell_type": "code",
      "source": [
        "import requests \n",
        "\n",
        "res = requests.get('http://icanhazip.com/')\n",
        "print(res.text)"
      ],
      "metadata": {
        "colab": {
          "base_uri": "https://localhost:8080/"
        },
        "id": "hJuEprKNi3iP",
        "outputId": "9d50a6c0-c8e1-446d-b6cf-1f034574ea1d"
      },
      "execution_count": null,
      "outputs": [
        {
          "output_type": "stream",
          "name": "stdout",
          "text": [
            "34.90.117.53\n",
            "\n"
          ]
        }
      ]
    },
    {
      "cell_type": "code",
      "source": [
        "!uname -m"
      ],
      "metadata": {
        "colab": {
          "base_uri": "https://localhost:8080/"
        },
        "id": "5sGw1LznmunB",
        "outputId": "7043f867-a154-4909-b023-df30fc9a5563"
      },
      "execution_count": null,
      "outputs": [
        {
          "output_type": "stream",
          "name": "stdout",
          "text": [
            "x86_64\n"
          ]
        }
      ]
    },
    {
      "cell_type": "code",
      "source": [
        "!ls"
      ],
      "metadata": {
        "colab": {
          "base_uri": "https://localhost:8080/"
        },
        "id": "KnwhMa8kM-AX",
        "outputId": "67ba6718-68f5-4b8e-b4e1-fb4843467584"
      },
      "execution_count": null,
      "outputs": [
        {
          "output_type": "stream",
          "name": "stdout",
          "text": [
            "dataset        dataset1\t\t ngrok\t\t\t       yolov5\n",
            "dataset0425_1  logs_tensorboard  ngrok-stable-linux-amd64.zip  yolov5n.pt\n"
          ]
        }
      ]
    },
    {
      "cell_type": "code",
      "source": [
        "!pwd"
      ],
      "metadata": {
        "colab": {
          "base_uri": "https://localhost:8080/"
        },
        "id": "m_Ny3v02M0BA",
        "outputId": "6ddcecf0-23e3-4781-fb7f-5a7c781095f6"
      },
      "execution_count": null,
      "outputs": [
        {
          "output_type": "stream",
          "name": "stdout",
          "text": [
            "/content/drive/MyDrive/Colab\n"
          ]
        }
      ]
    },
    {
      "cell_type": "code",
      "source": [
        "from google.colab import drive\n",
        "drive.mount('/content/drive')\n",
        "import os\n",
        "os.chdir('/content/drive/My Drive/Colab')"
      ],
      "metadata": {
        "colab": {
          "base_uri": "https://localhost:8080/"
        },
        "id": "hdKsZdGiLaFh",
        "outputId": "9f99d474-85a5-490d-e5c0-3733710aa29d"
      },
      "execution_count": null,
      "outputs": [
        {
          "output_type": "stream",
          "name": "stdout",
          "text": [
            "Mounted at /content/drive\n"
          ]
        }
      ]
    },
    {
      "cell_type": "code",
      "source": [
        "!wget https://getfrp.sh/d/frpc_linux_amd64"
      ],
      "metadata": {
        "colab": {
          "base_uri": "https://localhost:8080/"
        },
        "id": "JNm5z1MknHKD",
        "outputId": "325316f9-4957-4000-f223-7a5ebb6599b9"
      },
      "execution_count": null,
      "outputs": [
        {
          "output_type": "stream",
          "name": "stdout",
          "text": [
            "--2023-05-21 23:19:45--  https://getfrp.sh/d/frpc_linux_amd64\n",
            "Resolving getfrp.sh (getfrp.sh)... 104.21.29.198, 172.67.149.188, 2606:4700:3037::ac43:95bc, ...\n",
            "Connecting to getfrp.sh (getfrp.sh)|104.21.29.198|:443... connected.\n",
            "HTTP request sent, awaiting response... 302 Moved Temporarily\n",
            "Location: https://nyat-static.globalslb.net/natfrp/client/0.45.0-sakura-4/frpc_linux_amd64 [following]\n",
            "--2023-05-21 23:19:45--  https://nyat-static.globalslb.net/natfrp/client/0.45.0-sakura-4/frpc_linux_amd64\n",
            "Resolving nyat-static.globalslb.net (nyat-static.globalslb.net)... 104.17.112.65, 104.17.241.56, 2606:4700::6811:7041, ...\n",
            "Connecting to nyat-static.globalslb.net (nyat-static.globalslb.net)|104.17.112.65|:443... connected.\n",
            "HTTP request sent, awaiting response... 200 OK\n",
            "Length: 5047904 (4.8M) [application/octet-stream]\n",
            "Saving to: ‘frpc_linux_amd64’\n",
            "\n",
            "frpc_linux_amd64    100%[===================>]   4.81M  1.41MB/s    in 3.4s    \n",
            "\n",
            "2023-05-21 23:19:50 (1.41 MB/s) - ‘frpc_linux_amd64’ saved [5047904/5047904]\n",
            "\n"
          ]
        }
      ]
    },
    {
      "cell_type": "code",
      "source": [
        "!./frpc_linux_amd64"
      ],
      "metadata": {
        "colab": {
          "base_uri": "https://localhost:8080/"
        },
        "id": "JVece-ZSnWCk",
        "outputId": "b21f0cde-3474-4792-f6eb-42085ea51332"
      },
      "execution_count": null,
      "outputs": [
        {
          "output_type": "stream",
          "name": "stdout",
          "text": [
            "/bin/bash: ./frpc_linux_amd64: Permission denied\n"
          ]
        }
      ]
    },
    {
      "cell_type": "code",
      "source": [
        "!wget https://bin.equinox.io/c/4VmDzA7iaHb/ngrok-stable-linux-amd64.zip"
      ],
      "metadata": {
        "colab": {
          "base_uri": "https://localhost:8080/"
        },
        "id": "Clo9_k4TOO38",
        "outputId": "f5cb57db-2d1d-4c96-efbf-745b6831a094"
      },
      "execution_count": null,
      "outputs": [
        {
          "output_type": "stream",
          "name": "stdout",
          "text": [
            "--2023-05-22 00:04:42--  https://bin.equinox.io/c/4VmDzA7iaHb/ngrok-stable-linux-amd64.zip\n",
            "Resolving bin.equinox.io (bin.equinox.io)... 54.237.133.81, 52.202.168.65, 18.205.222.128, ...\n",
            "Connecting to bin.equinox.io (bin.equinox.io)|54.237.133.81|:443... connected.\n",
            "HTTP request sent, awaiting response... 200 OK\n",
            "Length: 13921656 (13M) [application/octet-stream]\n",
            "Saving to: ‘ngrok-stable-linux-amd64.zip’\n",
            "\n",
            "ngrok-stable-linux- 100%[===================>]  13.28M  12.9MB/s    in 1.0s    \n",
            "\n",
            "2023-05-22 00:04:44 (12.9 MB/s) - ‘ngrok-stable-linux-amd64.zip’ saved [13921656/13921656]\n",
            "\n"
          ]
        }
      ]
    },
    {
      "cell_type": "code",
      "source": [
        "!unzip ngrok-stable-linux-amd64.zip"
      ],
      "metadata": {
        "colab": {
          "base_uri": "https://localhost:8080/"
        },
        "id": "kS6IftqDxZjo",
        "outputId": "9afdb26d-978e-4d17-9464-7516dfe1baf3"
      },
      "execution_count": null,
      "outputs": [
        {
          "output_type": "stream",
          "name": "stdout",
          "text": [
            "Archive:  ngrok-stable-linux-amd64.zip\n",
            "replace ngrok? [y]es, [n]o, [A]ll, [N]one, [r]ename: y\n",
            "  inflating: ngrok                   \n"
          ]
        }
      ]
    },
    {
      "cell_type": "code",
      "source": [
        "!./ngrok authtoken 2Q7XPPSh8CXKd8XPM05HrHzPIAy_79crG3cN7c97hnXth3NAU"
      ],
      "metadata": {
        "colab": {
          "base_uri": "https://localhost:8080/"
        },
        "id": "uA3A-wmxWm5s",
        "outputId": "65cf1ae3-3cd0-4dc0-a87d-a9a76ae3e7ba"
      },
      "execution_count": null,
      "outputs": [
        {
          "output_type": "stream",
          "name": "stdout",
          "text": [
            "Authtoken saved to configuration file: /root/.ngrok2/ngrok.yml\n"
          ]
        }
      ]
    },
    {
      "cell_type": "code",
      "source": [
        "get_ipython().system_raw('./ngrok authtoken 2Q7XPPSh8CXKd8XPM05HrHzPIAy_79crG3cN7c97hnXth3NAU')"
      ],
      "metadata": {
        "id": "fKSEM42XM5Iz"
      },
      "execution_count": null,
      "outputs": []
    },
    {
      "cell_type": "code",
      "source": [
        "get_ipython().system_raw('tensorboard --logdir /content/drive/MyDrive/Colab/logs_tensorboard/pytorch_cifar10 --host 0.0.0.0 --port 6006 &')"
      ],
      "metadata": {
        "id": "CQ3lz-WyMFOn"
      },
      "execution_count": null,
      "outputs": []
    },
    {
      "cell_type": "code",
      "source": [
        "get_ipython().system_raw('tensorboard --logdir /content/drive/MyDrive/Colab/yolov5/runs/train --host 0.0.0.0 --port 6006 &')"
      ],
      "metadata": {
        "id": "5La1liWFRnrD"
      },
      "execution_count": null,
      "outputs": []
    },
    {
      "cell_type": "code",
      "source": [
        "get_ipython().system_raw('./ngrok http 6006 &')"
      ],
      "metadata": {
        "id": "wzFrkJDzST6X"
      },
      "execution_count": null,
      "outputs": []
    },
    {
      "cell_type": "code",
      "source": [
        "import requests \n",
        "import json\n",
        "\n",
        "response = requests.get('http://localhost:4040')\n",
        "print(response.text)\n",
        "# data = json.loads(response.text)\n",
        "# print(data['tunnels'][0]['public_url'])"
      ],
      "metadata": {
        "id": "ZJmeI1_BWX8m"
      },
      "execution_count": null,
      "outputs": []
    },
    {
      "cell_type": "code",
      "source": [
        "! curl -s http://localhost:4040/api/tunnels | python3 -c \\\n",
        "\"import sys, json; print(json.load(sys.stdin))\"\n"
      ],
      "metadata": {
        "id": "iOp8b7pNMHxH"
      },
      "execution_count": null,
      "outputs": []
    },
    {
      "cell_type": "code",
      "source": [
        "LOG_DIR = '/content/drive/MyDrive/Colab/logs_tensorboard/pytorch_cifar10'\n",
        "get_ipython().system_raw(\n",
        "    'tensorboard --logdir {} --host 0.0.0.0 --port 6006 &'\n",
        "    .format(LOG_DIR)\n",
        ")\n",
        "\n",
        "get_ipython().system_raw('./ngrok http 6006 &')\n",
        "\n",
        "!curl -s http://localhost:4040/api/tunnels | python3 -c \\\n",
        "    \"import sys, json; print(json.load(sys.stdin)['tunnels'][0]['public_url'])\""
      ],
      "metadata": {
        "id": "kPSZ2SOrTC_0",
        "colab": {
          "base_uri": "https://localhost:8080/"
        },
        "outputId": "98d82ce4-d494-4a6c-9421-9ce3293dfc5c"
      },
      "execution_count": null,
      "outputs": [
        {
          "output_type": "stream",
          "name": "stdout",
          "text": [
            "Traceback (most recent call last):\n",
            "  File \"<string>\", line 1, in <module>\n",
            "IndexError: list index out of range\n"
          ]
        }
      ]
    },
    {
      "cell_type": "code",
      "source": [
        "import torch\n",
        "print(torch.cuda.is_available())\n",
        "print(torch.cuda.device_count())"
      ],
      "metadata": {
        "colab": {
          "base_uri": "https://localhost:8080/"
        },
        "id": "ZnbLz_AIBc5A",
        "outputId": "c2bff76f-0461-4960-9f80-a376a7e4f4a3"
      },
      "execution_count": null,
      "outputs": [
        {
          "output_type": "stream",
          "name": "stdout",
          "text": [
            "True\n",
            "1\n"
          ]
        }
      ]
    },
    {
      "cell_type": "code",
      "source": [
        "!ls\n",
        "!du -h"
      ],
      "metadata": {
        "colab": {
          "base_uri": "https://localhost:8080/"
        },
        "id": "YySfP0-eB5Ow",
        "outputId": "89de9320-eda9-455c-d0a7-76d8bfdcd394"
      },
      "execution_count": null,
      "outputs": [
        {
          "output_type": "stream",
          "name": "stdout",
          "text": [
            "sample_data\n",
            "8.0K\t./.config/configurations\n",
            "72K\t./.config/logs/2023.05.18\n",
            "76K\t./.config/logs\n",
            "108K\t./.config\n",
            "55M\t./sample_data\n",
            "55M\t.\n"
          ]
        }
      ]
    },
    {
      "cell_type": "code",
      "source": [
        "import torchvision\n",
        "train_data = torchvision.datasets.CIFAR10(root='/content/data', train=True, transform=torchvision.transforms.ToTensor(),\n",
        "                                          download=True)\n",
        "test_data = torchvision.datasets.CIFAR10(root='/content/data', train=False, transform=torchvision.transforms.ToTensor(),\n",
        "                                         download=False)\n"
      ],
      "metadata": {
        "colab": {
          "base_uri": "https://localhost:8080/"
        },
        "id": "0wOfahktBKTA",
        "outputId": "20c32887-4c0f-4eba-d7fe-3357aa4a9b93"
      },
      "execution_count": null,
      "outputs": [
        {
          "output_type": "stream",
          "name": "stdout",
          "text": [
            "Downloading https://www.cs.toronto.edu/~kriz/cifar-10-python.tar.gz to /content/data/cifar-10-python.tar.gz\n"
          ]
        },
        {
          "output_type": "stream",
          "name": "stderr",
          "text": [
            "100%|██████████| 170498071/170498071 [00:13<00:00, 13032183.06it/s]\n"
          ]
        },
        {
          "output_type": "stream",
          "name": "stdout",
          "text": [
            "Extracting /content/data/cifar-10-python.tar.gz to /content/data\n"
          ]
        }
      ]
    },
    {
      "cell_type": "code",
      "source": [
        "from torch.utils.data import DataLoader\n",
        "# DataLoader加载数据集\n",
        "train_dataloader = DataLoader(train_data, batch_size=64)\n",
        "test_dataloader = DataLoader(test_data, batch_size=64)\n",
        "print(\"训练集的长度:{}\".format(len(train_data)))\n",
        "print(\"测试集的长度:{}\".format(len(test_data)))\n"
      ],
      "metadata": {
        "colab": {
          "base_uri": "https://localhost:8080/"
        },
        "id": "hNEgk5fiCtai",
        "outputId": "ae007efc-44b4-4c41-ca99-330d0244a76d"
      },
      "execution_count": null,
      "outputs": [
        {
          "output_type": "stream",
          "name": "stdout",
          "text": [
            "训练集的长度:50000\n",
            "测试集的长度:10000\n"
          ]
        }
      ]
    },
    {
      "cell_type": "code",
      "source": [
        "from torch import nn\n",
        "# 搭建神经网络\n",
        "class Model(nn.Module):\n",
        "    def __init__(self):\n",
        "        super(Model, self).__init__()\n",
        "        self.model = nn.Sequential(\n",
        "            nn.Conv2d(3, 32, 5, 1, 2),\n",
        "            nn.MaxPool2d(2),\n",
        "            nn.Conv2d(32, 32, 5, 1, 2),\n",
        "            nn.MaxPool2d(2),\n",
        "            nn.Conv2d(32, 64, 5, 1, 2),\n",
        "            nn.MaxPool2d(2),\n",
        "            nn.Flatten(),\n",
        "            nn.Linear(64 * 4 * 4, 64),\n",
        "            nn.Linear(64, 10),\n",
        "        )\n",
        "\n",
        "    def forward(self, x):\n",
        "        x = self.model(x)\n",
        "        return x\n"
      ],
      "metadata": {
        "id": "ccOibAj_E2ly"
      },
      "execution_count": null,
      "outputs": []
    },
    {
      "cell_type": "code",
      "source": [
        "from torch import nn\n",
        "model=Model().cuda()\n",
        "# 损失函数\n",
        "loss = nn.CrossEntropyLoss().cuda()\n",
        "\n",
        "# 优化器\n",
        "optimizer  = torch.optim.SGD(model.parameters(),lr=0.01,)"
      ],
      "metadata": {
        "id": "kZ05KfpjOq4g"
      },
      "execution_count": null,
      "outputs": []
    },
    {
      "cell_type": "code",
      "source": [
        "%load_ext tensorboard\n",
        "%tensorboard --logdir /content/drive/MyDrive/Colab/logs_tensorboard/pytorch_cifar10"
      ],
      "metadata": {
        "colab": {
          "base_uri": "https://localhost:8080/",
          "height": 251
        },
        "id": "dfhC3snVibET",
        "outputId": "00875744-aeb0-434f-eae1-1cacd5cd0a86"
      },
      "execution_count": null,
      "outputs": [
        {
          "output_type": "stream",
          "name": "stdout",
          "text": [
            "The tensorboard extension is already loaded. To reload it, use:\n",
            "  %reload_ext tensorboard\n"
          ]
        },
        {
          "output_type": "display_data",
          "data": {
            "text/plain": [
              "ERROR: Failed to launch TensorBoard (exited with 1).\n",
              "Contents of stderr:\n",
              "2023-05-21 23:58:22.637165: W tensorflow/compiler/tf2tensorrt/utils/py_utils.cc:38] TF-TRT Warning: Could not find TensorRT\n",
              "/usr/local/lib/python3.10/dist-packages/tensorboard_data_server/bin/server: /lib/x86_64-linux-gnu/libc.so.6: version `GLIBC_2.33' not found (required by /usr/local/lib/python3.10/dist-packages/tensorboard_data_server/bin/server)\n",
              "/usr/local/lib/python3.10/dist-packages/tensorboard_data_server/bin/server: /lib/x86_64-linux-gnu/libc.so.6: version `GLIBC_2.34' not found (required by /usr/local/lib/python3.10/dist-packages/tensorboard_data_server/bin/server)\n",
              "/usr/local/lib/python3.10/dist-packages/tensorboard_data_server/bin/server: /lib/x86_64-linux-gnu/libc.so.6: version `GLIBC_2.32' not found (required by /usr/local/lib/python3.10/dist-packages/tensorboard_data_server/bin/server)\n",
              "Address already in use\n",
              "Port 6006 is in use by another program. Either identify and stop that program, or start the server with a different port."
            ]
          },
          "metadata": {}
        }
      ]
    },
    {
      "cell_type": "code",
      "source": [
        "import torch\n",
        "import torchvision\n",
        "from torch import nn\n",
        "from torch.utils.data import DataLoader\n",
        "from torch.utils.tensorboard import SummaryWriter\n",
        "\n",
        "# 准备数据集\n",
        "train_data = torchvision.datasets.CIFAR10(root='/content/drive/MyDrive/Colab/datas', train=True, transform=torchvision.transforms.ToTensor(),\n",
        "                                          download=False)\n",
        "test_data = torchvision.datasets.CIFAR10(root='/content/drive/MyDrive/Colab/datas', train=False, transform=torchvision.transforms.ToTensor(),\n",
        "                                         download=False)\n",
        "\n",
        "\n",
        "print(\"训练集的长度:{}\".format(len(train_data)))\n",
        "print(\"测试集的长度:{}\".format(len(test_data)))\n",
        "\n",
        "# DataLoader加载数据集\n",
        "train_dataloader = DataLoader(train_data, batch_size=64)\n",
        "test_dataloader = DataLoader(test_data, batch_size=64)\n",
        "\n",
        "# 搭建神经网络\n",
        "class Model(nn.Module):\n",
        "    def __init__(self):\n",
        "        super(Model, self).__init__()\n",
        "        self.model = nn.Sequential(\n",
        "            nn.Conv2d(3, 32, 5, 1, 2),\n",
        "            nn.MaxPool2d(2),\n",
        "            nn.Conv2d(32, 32, 5, 1, 2),\n",
        "            nn.MaxPool2d(2),\n",
        "            nn.Conv2d(32, 64, 5, 1, 2),\n",
        "            nn.MaxPool2d(2),\n",
        "            nn.Flatten(),\n",
        "            nn.Linear(64 * 4 * 4, 64),\n",
        "            nn.Linear(64, 10),\n",
        "        )\n",
        "\n",
        "    def forward(self, x):\n",
        "        x = self.model(x)\n",
        "        return x\n",
        "\n",
        "# 创建网络模型\n",
        "model = Model().cuda()\n",
        "\n",
        "#添加tensorboard可视化数据\n",
        "writer = SummaryWriter('/content/drive/MyDrive/Colab/logs_tensorboard/pytorch_cifar10')\n",
        "\n",
        "# 损失函数\n",
        "loss = nn.CrossEntropyLoss().cuda()\n",
        "\n",
        "# 优化器\n",
        "optimizer  = torch.optim.SGD(model.parameters(),lr=0.01,)\n",
        "\n",
        "i = 1 # 用于绘制测试集的tensorboard\n",
        "\n",
        "# 开始循环训练\n",
        "for epoch in range(50):\n",
        "    num_time = 0 # 记录看看每轮有多少次训练\n",
        "    print('开始第{}轮训练'.format(epoch+1))\n",
        "    model.train() # 也可以不写，规范的话是写，用来表明训练步骤\n",
        "    for data in train_dataloader:\n",
        "        # 数据分开 一个是图片数据，一个是真实值\n",
        "        imgs,targets = data\n",
        "        imgs = imgs.cuda()\n",
        "        targets = targets.cuda()\n",
        "        # 拿到预测值\n",
        "        output = model(imgs)\n",
        "        # 计算损失值\n",
        "        loss_in = loss(output,targets)\n",
        "        # 优化开始~ ~ 先梯度清零\n",
        "        optimizer.zero_grad()\n",
        "        # 反向传播+更新\n",
        "        loss_in.backward()\n",
        "        optimizer.step()\n",
        "        num_time +=1\n",
        "\n",
        "        if num_time % 100 == 0:\n",
        "            writer.add_scalar('训练集损失值',loss_in.item(),num_time)\n",
        "            print('训练集损失值',loss_in.item(),num_time)\n",
        "\n",
        "    sum_loss = 0 # 记录总体损失值\n",
        "\n",
        "    # 每轮训练完成跑一下测试数据看看情况\n",
        "    accurate = 0\n",
        "    model.eval() # 也可以不写，规范的话就写，用来表明是测试步骤\n",
        "    with torch.no_grad():\n",
        "        for data in test_dataloader:\n",
        "            # 这里的每一次循环 都是一个minibatch  一次for循环里面有64个数据。\n",
        "            imgs , targets = data\n",
        "            imgs = imgs.cuda()\n",
        "            targets = targets.cuda()\n",
        "            output = model(imgs)\n",
        "            loss_in = loss(output,targets)\n",
        "\n",
        "            sum_loss += loss_in\n",
        "            # print('这里是output',output)\n",
        "            accurate += (output.argmax(1) == targets).sum()\n",
        "\n",
        "    print('第{}轮测试集的正确率:{:.2f}%'.format(epoch+1,accurate/len(test_data)*100))\n",
        "\n",
        "    print('测试集损失',sum_loss,i)\n",
        "    print('测试集正确率',accurate/len(test_data)*100,i)\n",
        "    writer.add_scalar('测试集损失',sum_loss,i)\n",
        "    writer.add_scalar('测试集正确率',accurate/len(test_data)*100,i)\n",
        "    i +=1\n",
        "\n",
        "    torch.save(model,'/content/drive/MyDrive/Colab/model_pytorch/model_{}.pth'.format(epoch+1))\n",
        "    print(\"第{}轮模型训练数据已保存\".format(epoch+1))\n",
        "\n",
        "writer.close()\n"
      ],
      "metadata": {
        "colab": {
          "base_uri": "https://localhost:8080/"
        },
        "id": "4xSoj58xiGOS",
        "outputId": "c08fd0ee-682a-4ebb-8ecf-95b9890c2703"
      },
      "execution_count": null,
      "outputs": [
        {
          "output_type": "stream",
          "name": "stdout",
          "text": [
            "训练集的长度:50000\n",
            "测试集的长度:10000\n",
            "开始第1轮训练\n",
            "训练集损失值 2.292764902114868 100\n",
            "训练集损失值 2.2855453491210938 200\n",
            "训练集损失值 2.2746641635894775 300\n",
            "训练集损失值 2.2081871032714844 400\n",
            "训练集损失值 2.0588371753692627 500\n",
            "训练集损失值 2.032630681991577 600\n",
            "训练集损失值 2.0428054332733154 700\n",
            "第1轮测试集的正确率:28.57%\n",
            "测试集损失 tensor(314.0016, device='cuda:0') 1\n",
            "测试集正确率 tensor(28.5700, device='cuda:0') 1\n",
            "第1轮模型训练数据已保存\n",
            "开始第2轮训练\n",
            "训练集损失值 1.9618842601776123 100\n",
            "训练集损失值 1.9372349977493286 200\n",
            "训练集损失值 1.9172067642211914 300\n",
            "训练集损失值 1.8227009773254395 400\n",
            "训练集损失值 1.8153703212738037 500\n",
            "训练集损失值 1.841233730316162 600\n",
            "训练集损失值 1.8126184940338135 700\n",
            "第2轮测试集的正确率:34.51%\n",
            "测试集损失 tensor(288.6048, device='cuda:0') 2\n",
            "测试集正确率 tensor(34.5100, device='cuda:0') 2\n",
            "第2轮模型训练数据已保存\n",
            "开始第3轮训练\n",
            "训练集损失值 1.6994068622589111 100\n",
            "训练集损失值 1.7031123638153076 200\n",
            "训练集损失值 1.7078396081924438 300\n",
            "训练集损失值 1.6415987014770508 400\n",
            "训练集损失值 1.6896119117736816 500\n",
            "训练集损失值 1.7073328495025635 600\n",
            "训练集损失值 1.745528221130371 700\n",
            "第3轮测试集的正确率:39.73%\n",
            "测试集损失 tensor(260.8677, device='cuda:0') 3\n",
            "测试集正确率 tensor(39.7300, device='cuda:0') 3\n",
            "第3轮模型训练数据已保存\n",
            "开始第4轮训练\n",
            "训练集损失值 1.4912134408950806 100\n",
            "训练集损失值 1.55294668674469 200\n",
            "训练集损失值 1.5900882482528687 300\n",
            "训练集损失值 1.5137858390808105 400\n",
            "训练集损失值 1.548888087272644 500\n",
            "训练集损失值 1.608200192451477 600\n",
            "训练集损失值 1.7126234769821167 700\n",
            "第4轮测试集的正确率:41.17%\n",
            "测试集损失 tensor(255.5867, device='cuda:0') 4\n",
            "测试集正确率 tensor(41.1700, device='cuda:0') 4\n",
            "第4轮模型训练数据已保存\n",
            "开始第5轮训练\n",
            "训练集损失值 1.3467438220977783 100\n",
            "训练集损失值 1.4564919471740723 200\n",
            "训练集损失值 1.5115474462509155 300\n",
            "训练集损失值 1.416107416152954 400\n",
            "训练集损失值 1.4243645668029785 500\n",
            "训练集损失值 1.5191903114318848 600\n",
            "训练集损失值 1.6657235622406006 700\n",
            "第5轮测试集的正确率:40.96%\n",
            "测试集损失 tensor(259.2079, device='cuda:0') 5\n",
            "测试集正确率 tensor(40.9600, device='cuda:0') 5\n",
            "第5轮模型训练数据已保存\n",
            "开始第6轮训练\n",
            "训练集损失值 1.2427252531051636 100\n",
            "训练集损失值 1.3758188486099243 200\n",
            "训练集损失值 1.4540048837661743 300\n",
            "训练集损失值 1.3427354097366333 400\n",
            "训练集损失值 1.346480131149292 500\n",
            "训练集损失值 1.4402979612350464 600\n",
            "训练集损失值 1.5893477201461792 700\n",
            "第6轮测试集的正确率:43.33%\n",
            "测试集损失 tensor(247.9670, device='cuda:0') 6\n",
            "测试集正确率 tensor(43.3300, device='cuda:0') 6\n",
            "第6轮模型训练数据已保存\n",
            "开始第7轮训练\n",
            "训练集损失值 1.1454198360443115 100\n",
            "训练集损失值 1.3119455575942993 200\n",
            "训练集损失值 1.4048084020614624 300\n",
            "训练集损失值 1.266546368598938 400\n",
            "训练集损失值 1.274208426475525 500\n",
            "训练集损失值 1.3583240509033203 600\n",
            "训练集损失值 1.5010113716125488 700\n",
            "第7轮测试集的正确率:45.54%\n",
            "测试集损失 tensor(237.0399, device='cuda:0') 7\n",
            "测试集正确率 tensor(45.5400, device='cuda:0') 7\n",
            "第7轮模型训练数据已保存\n",
            "开始第8轮训练\n",
            "训练集损失值 1.0734045505523682 100\n",
            "训练集损失值 1.2569894790649414 200\n",
            "训练集损失值 1.3522117137908936 300\n",
            "训练集损失值 1.2021085023880005 400\n",
            "训练集损失值 1.2138230800628662 500\n",
            "训练集损失值 1.2866042852401733 600\n",
            "训练集损失值 1.4032948017120361 700\n",
            "第8轮测试集的正确率:49.07%\n",
            "测试集损失 tensor(223.4948, device='cuda:0') 8\n",
            "测试集正确率 tensor(49.0700, device='cuda:0') 8\n",
            "第8轮模型训练数据已保存\n",
            "开始第9轮训练\n",
            "训练集损失值 1.0245916843414307 100\n",
            "训练集损失值 1.2077916860580444 200\n",
            "训练集损失值 1.3041516542434692 300\n",
            "训练集损失值 1.1438684463500977 400\n",
            "训练集损失值 1.1670539379119873 500\n",
            "训练集损失值 1.2202038764953613 600\n",
            "训练集损失值 1.3167335987091064 700\n",
            "第9轮测试集的正确率:52.24%\n",
            "测试集损失 tensor(211.2345, device='cuda:0') 9\n",
            "测试集正确率 tensor(52.2400, device='cuda:0') 9\n",
            "第9轮模型训练数据已保存\n",
            "开始第10轮训练\n",
            "训练集损失值 0.9850484728813171 100\n",
            "训练集损失值 1.1688019037246704 200\n",
            "训练集损失值 1.2604386806488037 300\n",
            "训练集损失值 1.0882132053375244 400\n",
            "训练集损失值 1.1142300367355347 500\n",
            "训练集损失值 1.164687156677246 600\n",
            "训练集损失值 1.2411153316497803 700\n",
            "第10轮测试集的正确率:54.11%\n",
            "测试集损失 tensor(203.3159, device='cuda:0') 10\n",
            "测试集正确率 tensor(54.1100, device='cuda:0') 10\n",
            "第10轮模型训练数据已保存\n",
            "开始第11轮训练\n",
            "训练集损失值 0.9493206739425659 100\n",
            "训练集损失值 1.1315749883651733 200\n",
            "训练集损失值 1.219698190689087 300\n",
            "训练集损失值 1.0336918830871582 400\n",
            "训练集损失值 1.0493299961090088 500\n",
            "训练集损失值 1.1198269128799438 600\n",
            "训练集损失值 1.1800246238708496 700\n",
            "第11轮测试集的正确率:55.71%\n",
            "测试集损失 tensor(196.8541, device='cuda:0') 11\n",
            "测试集正确率 tensor(55.7100, device='cuda:0') 11\n",
            "第11轮模型训练数据已保存\n",
            "开始第12轮训练\n",
            "训练集损失值 0.9161499738693237 100\n",
            "训练集损失值 1.0971907377243042 200\n",
            "训练集损失值 1.1820441484451294 300\n",
            "训练集损失值 0.987778902053833 400\n",
            "训练集损失值 0.9836043119430542 500\n",
            "训练集损失值 1.0876901149749756 600\n",
            "训练集损失值 1.129259467124939 700\n",
            "第12轮测试集的正确率:57.17%\n",
            "测试集损失 tensor(191.4850, device='cuda:0') 12\n",
            "测试集正确率 tensor(57.1700, device='cuda:0') 12\n",
            "第12轮模型训练数据已保存\n",
            "开始第13轮训练\n",
            "训练集损失值 0.8788363337516785 100\n",
            "训练集损失值 1.0627658367156982 200\n",
            "训练集损失值 1.1411280632019043 300\n",
            "训练集损失值 0.9457229971885681 400\n",
            "训练集损失值 0.9282196164131165 500\n",
            "训练集损失值 1.0557793378829956 600\n",
            "训练集损失值 1.0832226276397705 700\n",
            "第13轮测试集的正确率:58.23%\n",
            "测试集损失 tensor(187.1719, device='cuda:0') 13\n",
            "测试集正确率 tensor(58.2300, device='cuda:0') 13\n",
            "第13轮模型训练数据已保存\n",
            "开始第14轮训练\n",
            "训练集损失值 0.8424411416053772 100\n",
            "训练集损失值 1.0350719690322876 200\n",
            "训练集损失值 1.1020424365997314 300\n",
            "训练集损失值 0.9095748066902161 400\n",
            "训练集损失值 0.8891322612762451 500\n",
            "训练集损失值 1.0267612934112549 600\n",
            "训练集损失值 1.0389552116394043 700\n",
            "第14轮测试集的正确率:58.76%\n",
            "测试集损失 tensor(184.8369, device='cuda:0') 14\n",
            "测试集正确率 tensor(58.7600, device='cuda:0') 14\n",
            "第14轮模型训练数据已保存\n",
            "开始第15轮训练\n",
            "训练集损失值 0.8063782453536987 100\n",
            "训练集损失值 1.013545036315918 200\n",
            "训练集损失值 1.0594923496246338 300\n",
            "训练集损失值 0.8820340633392334 400\n",
            "训练集损失值 0.852531909942627 500\n",
            "训练集损失值 1.0062553882598877 600\n",
            "训练集损失值 1.0029728412628174 700\n",
            "第15轮测试集的正确率:58.82%\n",
            "测试集损失 tensor(184.6515, device='cuda:0') 15\n",
            "测试集正确率 tensor(58.8200, device='cuda:0') 15\n",
            "第15轮模型训练数据已保存\n",
            "开始第16轮训练\n",
            "训练集损失值 0.7719408273696899 100\n",
            "训练集损失值 0.9890519380569458 200\n",
            "训练集损失值 1.0171738862991333 300\n",
            "训练集损失值 0.8597210049629211 400\n",
            "训练集损失值 0.8215065598487854 500\n",
            "训练集损失值 0.9757955074310303 600\n",
            "训练集损失值 0.9764524102210999 700\n",
            "第16轮测试集的正确率:59.41%\n",
            "测试集损失 tensor(183.5346, device='cuda:0') 16\n",
            "测试集正确率 tensor(59.4100, device='cuda:0') 16\n",
            "第16轮模型训练数据已保存\n",
            "开始第17轮训练\n",
            "训练集损失值 0.7398157119750977 100\n",
            "训练集损失值 0.9722874760627747 200\n",
            "训练集损失值 0.9785780310630798 300\n",
            "训练集损失值 0.8416568040847778 400\n",
            "训练集损失值 0.7953907251358032 500\n",
            "训练集损失值 0.9383639693260193 600\n",
            "训练集损失值 0.9525243043899536 700\n",
            "第17轮测试集的正确率:59.68%\n",
            "测试集损失 tensor(183.8319, device='cuda:0') 17\n",
            "测试集正确率 tensor(59.6800, device='cuda:0') 17\n",
            "第17轮模型训练数据已保存\n",
            "开始第18轮训练\n",
            "训练集损失值 0.7085875868797302 100\n",
            "训练集损失值 0.9628137946128845 200\n",
            "训练集损失值 0.9415630102157593 300\n",
            "训练集损失值 0.8255612254142761 400\n",
            "训练集损失值 0.7765640616416931 500\n",
            "训练集损失值 0.9049739837646484 600\n",
            "训练集损失值 0.9241321682929993 700\n",
            "第18轮测试集的正确率:59.82%\n",
            "测试集损失 tensor(184.2311, device='cuda:0') 18\n",
            "测试集正确率 tensor(59.8200, device='cuda:0') 18\n",
            "第18轮模型训练数据已保存\n",
            "开始第19轮训练\n",
            "训练集损失值 0.6820262670516968 100\n",
            "训练集损失值 0.9502469301223755 200\n",
            "训练集损失值 0.9119796752929688 300\n",
            "训练集损失值 0.8118741512298584 400\n",
            "训练集损失值 0.7564892768859863 500\n",
            "训练集损失值 0.8709425330162048 600\n",
            "训练集损失值 0.9012308120727539 700\n",
            "第19轮测试集的正确率:60.10%\n",
            "测试集损失 tensor(183.8615, device='cuda:0') 19\n",
            "测试集正确率 tensor(60.1000, device='cuda:0') 19\n",
            "第19轮模型训练数据已保存\n",
            "开始第20轮训练\n",
            "训练集损失值 0.648106575012207 100\n",
            "训练集损失值 0.9326910972595215 200\n",
            "训练集损失值 0.8766510486602783 300\n",
            "训练集损失值 0.7980819940567017 400\n",
            "训练集损失值 0.7457354664802551 500\n",
            "训练集损失值 0.8393909335136414 600\n",
            "训练集损失值 0.8790674805641174 700\n",
            "第20轮测试集的正确率:60.36%\n",
            "测试集损失 tensor(183.7082, device='cuda:0') 20\n",
            "测试集正确率 tensor(60.3600, device='cuda:0') 20\n",
            "第20轮模型训练数据已保存\n",
            "开始第21轮训练\n",
            "训练集损失值 0.6223269701004028 100\n",
            "训练集损失值 0.9162307381629944 200\n",
            "训练集损失值 0.845045804977417 300\n",
            "训练集损失值 0.7835003733634949 400\n",
            "训练集损失值 0.7327284812927246 500\n",
            "训练集损失值 0.810889482498169 600\n",
            "训练集损失值 0.8539993762969971 700\n",
            "第21轮测试集的正确率:60.62%\n",
            "测试集损失 tensor(182.8658, device='cuda:0') 21\n",
            "测试集正确率 tensor(60.6200, device='cuda:0') 21\n",
            "第21轮模型训练数据已保存\n",
            "开始第22轮训练\n",
            "训练集损失值 0.5962911248207092 100\n",
            "训练集损失值 0.9027167558670044 200\n",
            "训练集损失值 0.8221055865287781 300\n",
            "训练集损失值 0.7701234221458435 400\n",
            "训练集损失值 0.7178994417190552 500\n",
            "训练集损失值 0.7777305841445923 600\n",
            "训练集损失值 0.8334323167800903 700\n",
            "第22轮测试集的正确率:60.82%\n",
            "测试集损失 tensor(183.3777, device='cuda:0') 22\n",
            "测试集正确率 tensor(60.8200, device='cuda:0') 22\n",
            "第22轮模型训练数据已保存\n",
            "开始第23轮训练\n",
            "训练集损失值 0.5707316398620605 100\n",
            "训练集损失值 0.8882021307945251 200\n",
            "训练集损失值 0.8010410070419312 300\n",
            "训练集损失值 0.7563174366950989 400\n",
            "训练集损失值 0.704350471496582 500\n",
            "训练集损失值 0.7471471428871155 600\n",
            "训练集损失值 0.8196050524711609 700\n",
            "第23轮测试集的正确率:61.24%\n",
            "测试集损失 tensor(183.5886, device='cuda:0') 23\n",
            "测试集正确率 tensor(61.2400, device='cuda:0') 23\n",
            "第23轮模型训练数据已保存\n",
            "开始第24轮训练\n",
            "训练集损失值 0.5460821390151978 100\n",
            "训练集损失值 0.8835030794143677 200\n",
            "训练集损失值 0.7791189551353455 300\n",
            "训练集损失值 0.7442370057106018 400\n",
            "训练集损失值 0.6926718950271606 500\n",
            "训练集损失值 0.7166336178779602 600\n",
            "训练集损失值 0.7995258569717407 700\n",
            "第24轮测试集的正确率:61.44%\n",
            "测试集损失 tensor(184.3203, device='cuda:0') 24\n",
            "测试集正确率 tensor(61.4400, device='cuda:0') 24\n",
            "第24轮模型训练数据已保存\n",
            "开始第25轮训练\n",
            "训练集损失值 0.5282372236251831 100\n",
            "训练集损失值 0.8667603731155396 200\n",
            "训练集损失值 0.7568256258964539 300\n",
            "训练集损失值 0.735404908657074 400\n",
            "训练集损失值 0.6768118143081665 500\n",
            "训练集损失值 0.6890232563018799 600\n",
            "训练集损失值 0.7776578068733215 700\n",
            "第25轮测试集的正确率:61.56%\n",
            "测试集损失 tensor(184.6013, device='cuda:0') 25\n",
            "测试集正确率 tensor(61.5600, device='cuda:0') 25\n",
            "第25轮模型训练数据已保存\n",
            "开始第26轮训练\n",
            "训练集损失值 0.5086640119552612 100\n",
            "训练集损失值 0.8466212153434753 200\n",
            "训练集损失值 0.7423291206359863 300\n",
            "训练集损失值 0.7276719808578491 400\n",
            "训练集损失值 0.6636863350868225 500\n",
            "训练集损失值 0.6618645191192627 600\n",
            "训练集损失值 0.754467248916626 700\n",
            "第26轮测试集的正确率:61.62%\n",
            "测试集损失 tensor(186.8120, device='cuda:0') 26\n",
            "测试集正确率 tensor(61.6200, device='cuda:0') 26\n",
            "第26轮模型训练数据已保存\n",
            "开始第27轮训练\n",
            "训练集损失值 0.48810476064682007 100\n",
            "训练集损失值 0.8275067806243896 200\n",
            "训练集损失值 0.7317186594009399 300\n",
            "训练集损失值 0.7127654552459717 400\n",
            "训练集损失值 0.6498021483421326 500\n",
            "训练集损失值 0.6418305039405823 600\n",
            "训练集损失值 0.7380877137184143 700\n",
            "第27轮测试集的正确率:61.77%\n",
            "测试集损失 tensor(188.9595, device='cuda:0') 27\n",
            "测试集正确率 tensor(61.7700, device='cuda:0') 27\n",
            "第27轮模型训练数据已保存\n",
            "开始第28轮训练\n",
            "训练集损失值 0.4670524299144745 100\n",
            "训练集损失值 0.8058797717094421 200\n",
            "训练集损失值 0.7165396809577942 300\n",
            "训练集损失值 0.6985023021697998 400\n",
            "训练集损失值 0.6408277153968811 500\n",
            "训练集损失值 0.6211790442466736 600\n",
            "训练集损失值 0.7305189371109009 700\n",
            "第28轮测试集的正确率:62.09%\n",
            "测试集损失 tensor(187.1014, device='cuda:0') 28\n",
            "测试集正确率 tensor(62.0900, device='cuda:0') 28\n",
            "第28轮模型训练数据已保存\n",
            "开始第29轮训练\n",
            "训练集损失值 0.4467967748641968 100\n",
            "训练集损失值 0.7870498895645142 200\n",
            "训练集损失值 0.7023553252220154 300\n",
            "训练集损失值 0.6888265013694763 400\n",
            "训练集损失值 0.6312992572784424 500\n",
            "训练集损失值 0.6030862331390381 600\n",
            "训练集损失值 0.716530978679657 700\n",
            "第29轮测试集的正确率:62.34%\n",
            "测试集损失 tensor(187.4716, device='cuda:0') 29\n",
            "测试集正确率 tensor(62.3400, device='cuda:0') 29\n",
            "第29轮模型训练数据已保存\n",
            "开始第30轮训练\n",
            "训练集损失值 0.4257335662841797 100\n",
            "训练集损失值 0.7667965888977051 200\n",
            "训练集损失值 0.6816545724868774 300\n",
            "训练集损失值 0.6732243895530701 400\n",
            "训练集损失值 0.6229205131530762 500\n",
            "训练集损失值 0.5809645056724548 600\n",
            "训练集损失值 0.7054569125175476 700\n",
            "第30轮测试集的正确率:62.43%\n",
            "测试集损失 tensor(188.8202, device='cuda:0') 30\n",
            "测试集正确率 tensor(62.4300, device='cuda:0') 30\n",
            "第30轮模型训练数据已保存\n",
            "开始第31轮训练\n",
            "训练集损失值 0.40681692957878113 100\n",
            "训练集损失值 0.742480993270874 200\n",
            "训练集损失值 0.6695316433906555 300\n",
            "训练集损失值 0.6650561690330505 400\n",
            "训练集损失值 0.618173360824585 500\n",
            "训练集损失值 0.556002676486969 600\n",
            "训练集损失值 0.6968764662742615 700\n",
            "第31轮测试集的正确率:63.15%\n",
            "测试集损失 tensor(188.9304, device='cuda:0') 31\n",
            "测试集正确率 tensor(63.1500, device='cuda:0') 31\n",
            "第31轮模型训练数据已保存\n",
            "开始第32轮训练\n",
            "训练集损失值 0.38787004351615906 100\n",
            "训练集损失值 0.7245882153511047 200\n",
            "训练集损失值 0.6565567255020142 300\n",
            "训练集损失值 0.6521398425102234 400\n",
            "训练集损失值 0.6094216704368591 500\n",
            "训练集损失值 0.5423520803451538 600\n",
            "训练集损失值 0.6729055047035217 700\n",
            "第32轮测试集的正确率:63.63%\n",
            "测试集损失 tensor(188.0765, device='cuda:0') 32\n",
            "测试集正确率 tensor(63.6300, device='cuda:0') 32\n",
            "第32轮模型训练数据已保存\n",
            "开始第33轮训练\n",
            "训练集损失值 0.37276020646095276 100\n",
            "训练集损失值 0.6966425776481628 200\n",
            "训练集损失值 0.6363621950149536 300\n",
            "训练集损失值 0.64210045337677 400\n",
            "训练集损失值 0.6021648049354553 500\n",
            "训练集损失值 0.5186121463775635 600\n",
            "训练集损失值 0.6573821306228638 700\n",
            "第33轮测试集的正确率:63.80%\n",
            "测试集损失 tensor(189.1416, device='cuda:0') 33\n",
            "测试集正确率 tensor(63.8000, device='cuda:0') 33\n",
            "第33轮模型训练数据已保存\n",
            "开始第34轮训练\n",
            "训练集损失值 0.3567947745323181 100\n",
            "训练集损失值 0.6741515398025513 200\n",
            "训练集损失值 0.6097411513328552 300\n",
            "训练集损失值 0.6286070942878723 400\n",
            "训练集损失值 0.5853086113929749 500\n",
            "训练集损失值 0.4927467107772827 600\n",
            "训练集损失值 0.6520714163780212 700\n",
            "第34轮测试集的正确率:64.12%\n",
            "测试集损失 tensor(189.6388, device='cuda:0') 34\n",
            "测试集正确率 tensor(64.1200, device='cuda:0') 34\n",
            "第34轮模型训练数据已保存\n",
            "开始第35轮训练\n",
            "训练集损失值 0.3406447172164917 100\n",
            "训练集损失值 0.6412571668624878 200\n",
            "训练集损失值 0.595088005065918 300\n",
            "训练集损失值 0.6204572319984436 400\n",
            "训练集损失值 0.5666213035583496 500\n",
            "训练集损失值 0.47205162048339844 600\n",
            "训练集损失值 0.6506786346435547 700\n",
            "第35轮测试集的正确率:64.45%\n",
            "测试集损失 tensor(191.0946, device='cuda:0') 35\n",
            "测试集正确率 tensor(64.4500, device='cuda:0') 35\n",
            "第35轮模型训练数据已保存\n",
            "开始第36轮训练\n",
            "训练集损失值 0.3202931880950928 100\n",
            "训练集损失值 0.6162081360816956 200\n",
            "训练集损失值 0.5851189494132996 300\n",
            "训练集损失值 0.6050950884819031 400\n",
            "训练集损失值 0.5549745559692383 500\n",
            "训练集损失值 0.45763471722602844 600\n",
            "训练集损失值 0.6395636200904846 700\n",
            "第36轮测试集的正确率:64.92%\n",
            "测试集损失 tensor(189.9818, device='cuda:0') 36\n",
            "测试集正确率 tensor(64.9200, device='cuda:0') 36\n",
            "第36轮模型训练数据已保存\n",
            "开始第37轮训练\n",
            "训练集损失值 0.3129916489124298 100\n",
            "训练集损失值 0.582737922668457 200\n",
            "训练集损失值 0.5661313533782959 300\n",
            "训练集损失值 0.5975589752197266 400\n",
            "训练集损失值 0.5323251485824585 500\n",
            "训练集损失值 0.4376106560230255 600\n",
            "训练集损失值 0.6291030049324036 700\n",
            "第37轮测试集的正确率:64.91%\n",
            "测试集损失 tensor(193.2955, device='cuda:0') 37\n",
            "测试集正确率 tensor(64.9100, device='cuda:0') 37\n",
            "第37轮模型训练数据已保存\n",
            "开始第38轮训练\n",
            "训练集损失值 0.29685869812965393 100\n",
            "训练集损失值 0.5494516491889954 200\n",
            "训练集损失值 0.561127781867981 300\n",
            "训练集损失值 0.5685874223709106 400\n",
            "训练集损失值 0.5086932182312012 500\n",
            "训练集损失值 0.42214226722717285 600\n",
            "训练集损失值 0.6161321401596069 700\n",
            "第38轮测试集的正确率:65.57%\n",
            "测试集损失 tensor(193.1316, device='cuda:0') 38\n",
            "测试集正确率 tensor(65.5700, device='cuda:0') 38\n",
            "第38轮模型训练数据已保存\n",
            "开始第39轮训练\n",
            "训练集损失值 0.27993044257164 100\n",
            "训练集损失值 0.524831235408783 200\n",
            "训练集损失值 0.5302188396453857 300\n",
            "训练集损失值 0.5555382370948792 400\n",
            "训练集损失值 0.4926767349243164 500\n",
            "训练集损失值 0.4059969186782837 600\n",
            "训练集损失值 0.5976563692092896 700\n",
            "第39轮测试集的正确率:65.63%\n",
            "测试集损失 tensor(196.8413, device='cuda:0') 39\n",
            "测试集正确率 tensor(65.6300, device='cuda:0') 39\n",
            "第39轮模型训练数据已保存\n",
            "开始第40轮训练\n",
            "训练集损失值 0.26626017689704895 100\n",
            "训练集损失值 0.5041993856430054 200\n",
            "训练集损失值 0.5064482688903809 300\n",
            "训练集损失值 0.5444636344909668 400\n",
            "训练集损失值 0.4860704243183136 500\n",
            "训练集损失值 0.38936394453048706 600\n",
            "训练集损失值 0.5868124961853027 700\n",
            "第40轮测试集的正确率:65.66%\n",
            "测试集损失 tensor(201.1171, device='cuda:0') 40\n",
            "测试集正确率 tensor(65.6600, device='cuda:0') 40\n",
            "第40轮模型训练数据已保存\n",
            "开始第41轮训练\n",
            "训练集损失值 0.254108726978302 100\n",
            "训练集损失值 0.48354029655456543 200\n",
            "训练集损失值 0.4828091859817505 300\n",
            "训练集损失值 0.5400822162628174 400\n",
            "训练集损失值 0.4675300717353821 500\n",
            "训练集损失值 0.3681895136833191 600\n",
            "训练集损失值 0.5530957579612732 700\n",
            "第41轮测试集的正确率:65.27%\n",
            "测试集损失 tensor(208.4630, device='cuda:0') 41\n",
            "测试集正确率 tensor(65.2700, device='cuda:0') 41\n",
            "第41轮模型训练数据已保存\n",
            "开始第42轮训练\n",
            "训练集损失值 0.2385343760251999 100\n",
            "训练集损失值 0.4718521535396576 200\n",
            "训练集损失值 0.46475517749786377 300\n",
            "训练集损失值 0.5363948941230774 400\n",
            "训练集损失值 0.44341495633125305 500\n",
            "训练集损失值 0.3554268777370453 600\n",
            "训练集损失值 0.5338261723518372 700\n",
            "第42轮测试集的正确率:65.42%\n",
            "测试集损失 tensor(211.9221, device='cuda:0') 42\n",
            "测试集正确率 tensor(65.4200, device='cuda:0') 42\n",
            "第42轮模型训练数据已保存\n",
            "开始第43轮训练\n",
            "训练集损失值 0.22526919841766357 100\n",
            "训练集损失值 0.4377385079860687 200\n",
            "训练集损失值 0.4418340027332306 300\n",
            "训练集损失值 0.5108619928359985 400\n",
            "训练集损失值 0.41288095712661743 500\n",
            "训练集损失值 0.33629706501960754 600\n",
            "训练集损失值 0.5235539674758911 700\n",
            "第43轮测试集的正确率:65.53%\n",
            "测试集损失 tensor(217.3227, device='cuda:0') 43\n",
            "测试集正确率 tensor(65.5300, device='cuda:0') 43\n",
            "第43轮模型训练数据已保存\n",
            "开始第44轮训练\n",
            "训练集损失值 0.21719582378864288 100\n",
            "训练集损失值 0.42064836621284485 200\n",
            "训练集损失值 0.4243932366371155 300\n",
            "训练集损失值 0.5008653998374939 400\n",
            "训练集损失值 0.3898314833641052 500\n",
            "训练集损失值 0.32037895917892456 600\n",
            "训练集损失值 0.5047482848167419 700\n",
            "第44轮测试集的正确率:65.49%\n",
            "测试集损失 tensor(224.1231, device='cuda:0') 44\n",
            "测试集正确率 tensor(65.4900, device='cuda:0') 44\n",
            "第44轮模型训练数据已保存\n",
            "开始第45轮训练\n",
            "训练集损失值 0.22134026885032654 100\n",
            "训练集损失值 0.40350204706192017 200\n",
            "训练集损失值 0.39982321858406067 300\n",
            "训练集损失值 0.48155951499938965 400\n",
            "训练集损失值 0.36411377787590027 500\n",
            "训练集损失值 0.3072199821472168 600\n",
            "训练集损失值 0.4682702124118805 700\n",
            "第45轮测试集的正确率:65.34%\n",
            "测试集损失 tensor(232.2525, device='cuda:0') 45\n",
            "测试集正确率 tensor(65.3400, device='cuda:0') 45\n",
            "第45轮模型训练数据已保存\n",
            "开始第46轮训练\n",
            "训练集损失值 0.2170875072479248 100\n",
            "训练集损失值 0.3855394423007965 200\n",
            "训练集损失值 0.38881611824035645 300\n",
            "训练集损失值 0.45632413029670715 400\n",
            "训练集损失值 0.34815478324890137 500\n",
            "训练集损失值 0.30689334869384766 600\n",
            "训练集损失值 0.4607694149017334 700\n",
            "第46轮测试集的正确率:65.56%\n",
            "测试集损失 tensor(237.6145, device='cuda:0') 46\n",
            "测试集正确率 tensor(65.5600, device='cuda:0') 46\n",
            "第46轮模型训练数据已保存\n",
            "开始第47轮训练\n",
            "训练集损失值 0.21569222211837769 100\n",
            "训练集损失值 0.35867416858673096 200\n",
            "训练集损失值 0.3836600184440613 300\n",
            "训练集损失值 0.4188474714756012 400\n",
            "训练集损失值 0.3138445019721985 500\n",
            "训练集损失值 0.2791544497013092 600\n",
            "训练集损失值 0.4360915422439575 700\n",
            "第47轮测试集的正确率:65.45%\n",
            "测试集损失 tensor(245.6278, device='cuda:0') 47\n",
            "测试集正确率 tensor(65.4500, device='cuda:0') 47\n",
            "第47轮模型训练数据已保存\n",
            "开始第48轮训练\n",
            "训练集损失值 0.2273382991552353 100\n",
            "训练集损失值 0.33173972368240356 200\n",
            "训练集损失值 0.3645625412464142 300\n",
            "训练集损失值 0.43006211519241333 400\n",
            "训练集损失值 0.3064703047275543 500\n",
            "训练集损失值 0.2740628719329834 600\n",
            "训练集损失值 0.4188392758369446 700\n",
            "第48轮测试集的正确率:65.05%\n",
            "测试集损失 tensor(254.9025, device='cuda:0') 48\n",
            "测试集正确率 tensor(65.0500, device='cuda:0') 48\n",
            "第48轮模型训练数据已保存\n",
            "开始第49轮训练\n",
            "训练集损失值 0.2178584486246109 100\n",
            "训练集损失值 0.32820644974708557 200\n",
            "训练集损失值 0.3506455719470978 300\n",
            "训练集损失值 0.4315407872200012 400\n",
            "训练集损失值 0.27965134382247925 500\n",
            "训练集损失值 0.2557607889175415 600\n",
            "训练集损失值 0.4062372148036957 700\n",
            "第49轮测试集的正确率:65.26%\n",
            "测试集损失 tensor(261.5592, device='cuda:0') 49\n",
            "测试集正确率 tensor(65.2600, device='cuda:0') 49\n",
            "第49轮模型训练数据已保存\n",
            "开始第50轮训练\n",
            "训练集损失值 0.20168600976467133 100\n",
            "训练集损失值 0.3335026204586029 200\n",
            "训练集损失值 0.34643325209617615 300\n",
            "训练集损失值 0.4358241856098175 400\n",
            "训练集损失值 0.2730565071105957 500\n",
            "训练集损失值 0.2571617662906647 600\n",
            "训练集损失值 0.37166640162467957 700\n",
            "第50轮测试集的正确率:64.03%\n",
            "测试集损失 tensor(278.0638, device='cuda:0') 50\n",
            "测试集正确率 tensor(64.0300, device='cuda:0') 50\n",
            "第50轮模型训练数据已保存\n"
          ]
        }
      ]
    }
  ]
}