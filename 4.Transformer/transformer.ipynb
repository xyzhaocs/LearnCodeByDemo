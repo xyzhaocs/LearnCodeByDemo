{
 "cells": [
  {
   "cell_type": "code",
   "execution_count": 1,
   "metadata": {},
   "outputs": [
    {
     "name": "stderr",
     "output_type": "stream",
     "text": [
      "/home/zxy/miniconda/yes/envs/ssfn/lib/python3.10/site-packages/tqdm/auto.py:21: TqdmWarning: IProgress not found. Please update jupyter and ipywidgets. See https://ipywidgets.readthedocs.io/en/stable/user_install.html\n",
      "  from .autonotebook import tqdm as notebook_tqdm\n"
     ]
    }
   ],
   "source": [
    "import numpy as np\n",
    "import pandas as pd\n",
    "from tqdm import tqdm\n",
    "import optuna\n",
    "import torch\n",
    "from torch import nn\n",
    "import torch.nn.functional as F\n",
    "from torch import tensor\n",
    "import torch.utils.data as Data\n",
    "import math\n",
    "from matplotlib import pyplot\n",
    "from datetime import datetime, timedelta\n",
    "from sklearn.model_selection import train_test_split\n",
    "import matplotlib.pyplot as plt\n",
    "import seaborn as sns\n",
    "import torch\n",
    "import torch.nn as nn\n",
    "import math\n",
    "import warnings\n",
    "warnings.filterwarnings(\"ignore\")\n",
    "plt.rcParams['font.sans-serif'] = ['SimHei']  # 用来正常显示中文标签\n",
    "plt.rcParams['axes.unicode_minus'] = False  # 用来正常显示负号\n",
    "\n",
    "# 设置随机参数：保证实验结果可以重复\n",
    "SEED=1234\n",
    "import random\n",
    "random.seed(SEED)\n",
    "np.random.seed(SEED)\n",
    "torch.manual_seed(SEED)\n",
    "torch.cuda.manual_seed(SEED) # 适用于显卡训练\n",
    "torch.cuda.manual_seed_all(SEED) # 适用于多显卡训练\n",
    "from torch.backends import cudnn\n",
    "cudnn.benchmark = False\n",
    "cudnn.deterministic = True"
   ]
  },
  {
   "cell_type": "code",
   "execution_count": 2,
   "metadata": {},
   "outputs": [],
   "source": [
    "# class PositionalEncoding(nn.Module):\n",
    "#     def __init__(self, d_model, max_len=5000):\n",
    "#         super(PositionalEncoding, self).__init__()\n",
    "#         pe = torch.zeros(max_len, d_model)\n",
    "#         position = torch.arange(0, max_len, dtype=torch.float).unsqueeze(1)\n",
    "#         div_term = torch.exp(torch.arange(0, d_model, 2).float() * (-math.log(10000.0) / d_model)) #???  为什么这么做\n",
    "#         pe[:, 0::2] = torch.sin(position * div_term)\n",
    "#         pe[:, 1::2] = torch.cos(position * div_term)\n",
    "#         pe = pe.unsqueeze(0).transpose(0, 1)\n",
    "#         # pe.requires_grad = False\n",
    "#         self.register_buffer('pe', pe)\n",
    "\n",
    "#     def forward(self, x: torch.Tensor):\n",
    "#         chunk = x.chunk(x.size(-1), dim=2)\n",
    "#         out = torch.Tensor([]).to(x.device)\n",
    "#         for i in range(len(chunk)):\n",
    "#             out = torch.cat((out, chunk[i] + self.pe[:chunk[i].size(0), ...]), dim=2)\n",
    "#         return out\n",
    "\n",
    "\n",
    "def transformer_generate_tgt_mask(length, device):\n",
    "    mask = torch.tril(torch.ones(length, length, device=device)) == 1\n",
    "    mask = (\n",
    "        mask.float()\n",
    "        .masked_fill(mask == 0, float(\"-inf\"))\n",
    "        .masked_fill(mask == 1, float(0.0))\n",
    "    )\n",
    "    return mask\n",
    "\n",
    "\n",
    "class Transformer(nn.Module):\n",
    "    \"\"\"标准的Transformer编码器-解码器结构\"\"\"\n",
    "\n",
    "    def __init__(self, n_encoder_inputs, n_decoder_inputs, Sequence_length, d_model=512, dropout=0.1, num_layer=8):\n",
    "        \"\"\"\n",
    "        初始化\n",
    "        :param n_encoder_inputs:    输入数据的特征维度\n",
    "        :param n_decoder_inputs:    编码器输入的特征维度，其实等于编码器输出的特征维度\n",
    "        :param d_model:             词嵌入特征维度\n",
    "        :param dropout:             dropout\n",
    "        :param num_layer:           Transformer块的个数\n",
    "         Sequence_length:           transformer 输入数据 序列的长度\n",
    "        \"\"\"\n",
    "        super(Transformer, self).__init__()\n",
    "\n",
    "        self.input_pos_embedding = torch.nn.Embedding(500, embedding_dim=d_model)\n",
    "        self.target_pos_embedding = torch.nn.Embedding(500, embedding_dim=d_model)\n",
    "\n",
    "        encoder_layer = torch.nn.TransformerEncoderLayer(d_model=d_model, nhead=num_layer, dropout=dropout,dim_feedforward=4 * d_model)\n",
    "        decoder_layer = torch.nn.TransformerDecoderLayer(d_model=d_model, nhead=num_layer, dropout=dropout,dim_feedforward=4 * d_model)\n",
    "\n",
    "        self.encoder = torch.nn.TransformerEncoder(encoder_layer, num_layers=2)\n",
    "        self.decoder = torch.nn.TransformerDecoder(decoder_layer, num_layers=4)\n",
    "\n",
    "        self.input_projection = torch.nn.Linear(n_encoder_inputs, d_model)\n",
    "        self.output_projection = torch.nn.Linear(n_decoder_inputs, d_model)\n",
    "\n",
    "        self.linear = torch.nn.Linear(d_model, 1)\n",
    "        self.ziji_add_linear = torch.nn.Linear(Sequence_length,1)\n",
    "\n",
    "    def encode_in(self, src):\n",
    "        src_start = self.input_projection(src).permute(1, 0, 2)\n",
    "        in_sequence_len, batch_size = src_start.size(0), src_start.size(1)\n",
    "        pos_encoder = (torch.arange(0, in_sequence_len, device=src.device).unsqueeze(0).repeat(batch_size, 1))\n",
    "        pos_encoder = self.input_pos_embedding(pos_encoder).permute(1, 0, 2)\n",
    "        src = src_start + pos_encoder\n",
    "        src = self.encoder(src) + src_start\n",
    "        return src\n",
    "\n",
    "    def decode_out(self, tgt, memory):\n",
    "        tgt_start = self.output_projection(tgt).permute(1, 0, 2)\n",
    "        out_sequence_len, batch_size = tgt_start.size(0), tgt_start.size(1)\n",
    "        pos_decoder = (torch.arange(0, out_sequence_len, device=tgt.device).unsqueeze(0).repeat(batch_size, 1))\n",
    "        pos_decoder = self.target_pos_embedding(pos_decoder).permute(1, 0, 2)\n",
    "        tgt = tgt_start + pos_decoder\n",
    "        tgt_mask = transformer_generate_tgt_mask(out_sequence_len, tgt.device)\n",
    "        out = self.decoder(tgt=tgt, memory=memory, tgt_mask=tgt_mask) + tgt_start\n",
    "        out = out.permute(1, 0, 2)  # [batch_size, seq_len, d_model]\n",
    "        out = self.linear(out)\n",
    "        return out\n",
    "\n",
    "    def forward(self, src, target_in):\n",
    "        # print(\"src.shape\", src.shape)\n",
    "        src = self.encode_in(src)\n",
    "        # print(\"src.shape\",src.shape)#src.shape torch.Size([9, 8, 512])\n",
    "        out = self.decode_out(tgt=target_in, memory=src)\n",
    "        # print(\"out.shape\",out.shape)\n",
    "        # print(\"out.shape:\",out.shape)# torch.Size([batch, 3, 1]) # 原本代码中的输出\n",
    "        # 上边的这个输入可以用于很多任务的输出 可以根据任务进行自由的变换\n",
    "        # 下面是自己修改的\n",
    "        # 使用全连接变成 [batch,1] 构成了基于transformer的回归单值预测\n",
    "        out = out.squeeze(2)\n",
    "        out = self.ziji_add_linear(out)\n",
    "        return out"
   ]
  },
  {
   "cell_type": "code",
   "execution_count": 3,
   "metadata": {},
   "outputs": [
    {
     "name": "stdout",
     "output_type": "stream",
     "text": [
      "Index(['Date', 'Close-H', 'Close-L', 'W&R', 'DMI', 'CCI', 'ROC', 'ATR', 'ADX',\n",
      "       'HT_DCPERIOD', 'ma_5', 'ma_30', 'ma_120', 'RSI', 'MACD', 'MACDsignal',\n",
      "       'OBV', 'AD', 'K', 'D', 'log_ret'],\n",
      "      dtype='object')\n",
      "158 158\n"
     ]
    },
    {
     "name": "stderr",
     "output_type": "stream",
     "text": [
      "  0%|          | 0/50 [00:00<?, ?it/s]"
     ]
    },
    {
     "name": "stdout",
     "output_type": "stream",
     "text": [
      "loss: tensor(0.0810, device='cuda:0', grad_fn=<MseLossBackward0>)\n",
      "loss: tensor(0.0360, device='cuda:0', grad_fn=<MseLossBackward0>)\n",
      "loss: tensor(0.0291, device='cuda:0', grad_fn=<MseLossBackward0>)\n",
      "loss: tensor(0.0651, device='cuda:0', grad_fn=<MseLossBackward0>)\n",
      "loss: tensor(0.0877, device='cuda:0', grad_fn=<MseLossBackward0>)\n",
      "loss: tensor(0.0349, device='cuda:0', grad_fn=<MseLossBackward0>)\n",
      "loss: tensor(0.0427, device='cuda:0', grad_fn=<MseLossBackward0>)\n",
      "loss: tensor(0.0263, device='cuda:0', grad_fn=<MseLossBackward0>)\n",
      "loss: tensor(0.0584, device='cuda:0', grad_fn=<MseLossBackward0>)\n",
      "loss: tensor(0.0436, device='cuda:0', grad_fn=<MseLossBackward0>)\n",
      "loss: tensor(0.0640, device='cuda:0', grad_fn=<MseLossBackward0>)\n",
      "epoch: 0 train_epoch_loss: 0.051700249652970924 val_epoch_loss: 0.02680745581164956\n",
      "best_test_loss ------------------------------------------------- 0.02680745581164956\n"
     ]
    },
    {
     "name": "stderr",
     "output_type": "stream",
     "text": [
      "  2%|▏         | 1/50 [00:01<01:01,  1.25s/it]"
     ]
    },
    {
     "name": "stdout",
     "output_type": "stream",
     "text": [
      "loss: tensor(0.0170, device='cuda:0', grad_fn=<MseLossBackward0>)\n",
      "loss: tensor(0.0482, device='cuda:0', grad_fn=<MseLossBackward0>)\n",
      "loss: tensor(0.0222, device='cuda:0', grad_fn=<MseLossBackward0>)\n",
      "loss: tensor(0.0261, device='cuda:0', grad_fn=<MseLossBackward0>)\n",
      "loss: tensor(0.0310, device='cuda:0', grad_fn=<MseLossBackward0>)\n",
      "loss: tensor(0.0185, device='cuda:0', grad_fn=<MseLossBackward0>)\n",
      "loss: tensor(0.0310, device='cuda:0', grad_fn=<MseLossBackward0>)\n",
      "loss: tensor(0.0358, device='cuda:0', grad_fn=<MseLossBackward0>)\n"
     ]
    },
    {
     "name": "stderr",
     "output_type": "stream",
     "text": [
      "  4%|▍         | 2/50 [00:01<00:34,  1.40it/s]"
     ]
    },
    {
     "name": "stdout",
     "output_type": "stream",
     "text": [
      "loss: tensor(0.0218, device='cuda:0', grad_fn=<MseLossBackward0>)\n",
      "loss: tensor(0.0291, device='cuda:0', grad_fn=<MseLossBackward0>)\n",
      "loss: tensor(0.0106, device='cuda:0', grad_fn=<MseLossBackward0>)\n",
      "epoch: 1 train_epoch_loss: 0.026486579752103848 val_epoch_loss: 0.030982217751443386\n",
      "loss: tensor(0.0208, device='cuda:0', grad_fn=<MseLossBackward0>)\n",
      "loss: tensor(0.0557, device='cuda:0', grad_fn=<MseLossBackward0>)\n",
      "loss: tensor(0.0315, device='cuda:0', grad_fn=<MseLossBackward0>)\n",
      "loss: tensor(0.0435, device='cuda:0', grad_fn=<MseLossBackward0>)\n",
      "loss: tensor(0.0257, device='cuda:0', grad_fn=<MseLossBackward0>)\n",
      "loss: tensor(0.0168, device='cuda:0', grad_fn=<MseLossBackward0>)\n",
      "loss: tensor(0.0173, device='cuda:0', grad_fn=<MseLossBackward0>)\n",
      "loss: tensor(0.0285, device='cuda:0', grad_fn=<MseLossBackward0>)\n",
      "loss: tensor(0.0333, device='cuda:0', grad_fn=<MseLossBackward0>)\n",
      "loss: tensor(0.0232, device='cuda:0', grad_fn=<MseLossBackward0>)\n",
      "loss: tensor(0.0187, device='cuda:0', grad_fn=<MseLossBackward0>)\n",
      "epoch: 2 train_epoch_loss: 0.028623546050353485 val_epoch_loss: 0.01366424752632156\n",
      "best_test_loss ------------------------------------------------- 0.01366424752632156\n"
     ]
    },
    {
     "name": "stderr",
     "output_type": "stream",
     "text": [
      "  6%|▌         | 3/50 [00:02<00:31,  1.50it/s]"
     ]
    },
    {
     "name": "stdout",
     "output_type": "stream",
     "text": [
      "loss: tensor(0.0249, device='cuda:0', grad_fn=<MseLossBackward0>)\n",
      "loss: tensor(0.0141, device='cuda:0', grad_fn=<MseLossBackward0>)\n",
      "loss: tensor(0.0100, device='cuda:0', grad_fn=<MseLossBackward0>)\n",
      "loss: tensor(0.0077, device='cuda:0', grad_fn=<MseLossBackward0>)\n",
      "loss: tensor(0.0088, device='cuda:0', grad_fn=<MseLossBackward0>)\n",
      "loss: tensor(0.0210, device='cuda:0', grad_fn=<MseLossBackward0>)\n",
      "loss: tensor(0.0080, device='cuda:0', grad_fn=<MseLossBackward0>)\n",
      "loss: tensor(0.0040, device='cuda:0', grad_fn=<MseLossBackward0>)\n",
      "loss: tensor(0.0108, device='cuda:0', grad_fn=<MseLossBackward0>)\n",
      "loss: tensor(0.0189, device='cuda:0', grad_fn=<MseLossBackward0>)\n"
     ]
    },
    {
     "name": "stderr",
     "output_type": "stream",
     "text": [
      "  8%|▊         | 4/50 [00:02<00:27,  1.67it/s]"
     ]
    },
    {
     "name": "stdout",
     "output_type": "stream",
     "text": [
      "loss: tensor(0.0136, device='cuda:0', grad_fn=<MseLossBackward0>)\n",
      "epoch: 3 train_epoch_loss: 0.012879292395981875 val_epoch_loss: 0.017475449829362333\n",
      "loss: tensor(0.0170, device='cuda:0', grad_fn=<MseLossBackward0>)\n",
      "loss: tensor(0.0023, device='cuda:0', grad_fn=<MseLossBackward0>)\n",
      "loss: tensor(0.0208, device='cuda:0', grad_fn=<MseLossBackward0>)\n",
      "loss: tensor(0.0063, device='cuda:0', grad_fn=<MseLossBackward0>)\n",
      "loss: tensor(0.0114, device='cuda:0', grad_fn=<MseLossBackward0>)\n",
      "loss: tensor(0.0135, device='cuda:0', grad_fn=<MseLossBackward0>)\n",
      "loss: tensor(0.0201, device='cuda:0', grad_fn=<MseLossBackward0>)\n",
      "loss: tensor(0.0228, device='cuda:0', grad_fn=<MseLossBackward0>)\n",
      "loss: tensor(0.0093, device='cuda:0', grad_fn=<MseLossBackward0>)\n",
      "loss: tensor(0.0156, device='cuda:0', grad_fn=<MseLossBackward0>)\n"
     ]
    },
    {
     "name": "stderr",
     "output_type": "stream",
     "text": [
      " 10%|█         | 5/50 [00:03<00:24,  1.83it/s]"
     ]
    },
    {
     "name": "stdout",
     "output_type": "stream",
     "text": [
      "loss: tensor(0.0121, device='cuda:0', grad_fn=<MseLossBackward0>)\n",
      "epoch: 4 train_epoch_loss: 0.01374156343411993 val_epoch_loss: 0.013792706187814474\n",
      "loss: tensor(0.0080, device='cuda:0', grad_fn=<MseLossBackward0>)\n",
      "loss: tensor(0.0309, device='cuda:0', grad_fn=<MseLossBackward0>)\n",
      "loss: tensor(0.0136, device='cuda:0', grad_fn=<MseLossBackward0>)\n",
      "loss: tensor(0.0146, device='cuda:0', grad_fn=<MseLossBackward0>)\n",
      "loss: tensor(0.0124, device='cuda:0', grad_fn=<MseLossBackward0>)\n",
      "loss: tensor(0.0098, device='cuda:0', grad_fn=<MseLossBackward0>)\n",
      "loss: tensor(0.0104, device='cuda:0', grad_fn=<MseLossBackward0>)\n",
      "loss: tensor(0.0077, device='cuda:0', grad_fn=<MseLossBackward0>)\n",
      "loss: tensor(0.0127, device='cuda:0', grad_fn=<MseLossBackward0>)\n",
      "loss: tensor(0.0373, device='cuda:0', grad_fn=<MseLossBackward0>)\n",
      "loss: tensor(0.0166, device='cuda:0', grad_fn=<MseLossBackward0>)\n",
      "epoch: 5 train_epoch_loss: 0.015812784941359 val_epoch_loss: 0.007970354286953807\n",
      "best_test_loss ------------------------------------------------- 0.007970354286953807\n"
     ]
    },
    {
     "name": "stderr",
     "output_type": "stream",
     "text": [
      " 12%|█▏        | 6/50 [00:03<00:25,  1.75it/s]"
     ]
    },
    {
     "name": "stdout",
     "output_type": "stream",
     "text": [
      "loss: tensor(0.0078, device='cuda:0', grad_fn=<MseLossBackward0>)\n",
      "loss: tensor(0.0144, device='cuda:0', grad_fn=<MseLossBackward0>)\n",
      "loss: tensor(0.0091, device='cuda:0', grad_fn=<MseLossBackward0>)\n",
      "loss: tensor(0.0138, device='cuda:0', grad_fn=<MseLossBackward0>)\n",
      "loss: tensor(0.0334, device='cuda:0', grad_fn=<MseLossBackward0>)\n",
      "loss: tensor(0.0231, device='cuda:0', grad_fn=<MseLossBackward0>)\n",
      "loss: tensor(0.0096, device='cuda:0', grad_fn=<MseLossBackward0>)\n",
      "loss: tensor(0.0089, device='cuda:0', grad_fn=<MseLossBackward0>)\n",
      "loss: tensor(0.0127, device='cuda:0', grad_fn=<MseLossBackward0>)\n",
      "loss: tensor(0.0108, device='cuda:0', grad_fn=<MseLossBackward0>)\n",
      "loss: tensor(0.0078, device='cuda:0', grad_fn=<MseLossBackward0>)\n"
     ]
    },
    {
     "name": "stderr",
     "output_type": "stream",
     "text": [
      " 14%|█▍        | 7/50 [00:04<00:23,  1.85it/s]"
     ]
    },
    {
     "name": "stdout",
     "output_type": "stream",
     "text": [
      "epoch: 6 train_epoch_loss: 0.013752810995687138 val_epoch_loss: 0.009256540331989527\n",
      "loss: tensor(0.0240, device='cuda:0', grad_fn=<MseLossBackward0>)\n",
      "loss: tensor(0.0200, device='cuda:0', grad_fn=<MseLossBackward0>)\n",
      "loss: tensor(0.0111, device='cuda:0', grad_fn=<MseLossBackward0>)\n",
      "loss: tensor(0.0092, device='cuda:0', grad_fn=<MseLossBackward0>)\n",
      "loss: tensor(0.0080, device='cuda:0', grad_fn=<MseLossBackward0>)\n",
      "loss: tensor(0.0090, device='cuda:0', grad_fn=<MseLossBackward0>)\n",
      "loss: tensor(0.0027, device='cuda:0', grad_fn=<MseLossBackward0>)\n",
      "loss: tensor(0.0049, device='cuda:0', grad_fn=<MseLossBackward0>)\n",
      "loss: tensor(0.0106, device='cuda:0', grad_fn=<MseLossBackward0>)\n",
      "loss: tensor(0.0050, device='cuda:0', grad_fn=<MseLossBackward0>)\n",
      "loss: tensor(0.0114, device='cuda:0', grad_fn=<MseLossBackward0>)\n"
     ]
    },
    {
     "name": "stderr",
     "output_type": "stream",
     "text": [
      " 16%|█▌        | 8/50 [00:04<00:21,  1.95it/s]"
     ]
    },
    {
     "name": "stdout",
     "output_type": "stream",
     "text": [
      "epoch: 7 train_epoch_loss: 0.010544426464052363 val_epoch_loss: 0.009087013197131455\n",
      "loss: tensor(0.0052, device='cuda:0', grad_fn=<MseLossBackward0>)\n",
      "loss: tensor(0.0043, device='cuda:0', grad_fn=<MseLossBackward0>)\n",
      "loss: tensor(0.0349, device='cuda:0', grad_fn=<MseLossBackward0>)\n",
      "loss: tensor(0.0046, device='cuda:0', grad_fn=<MseLossBackward0>)\n",
      "loss: tensor(0.0134, device='cuda:0', grad_fn=<MseLossBackward0>)\n",
      "loss: tensor(0.0190, device='cuda:0', grad_fn=<MseLossBackward0>)\n",
      "loss: tensor(0.0072, device='cuda:0', grad_fn=<MseLossBackward0>)\n",
      "loss: tensor(0.0061, device='cuda:0', grad_fn=<MseLossBackward0>)\n",
      "loss: tensor(0.0084, device='cuda:0', grad_fn=<MseLossBackward0>)\n",
      "loss: tensor(0.0078, device='cuda:0', grad_fn=<MseLossBackward0>)\n",
      "loss: tensor(0.0134, device='cuda:0', grad_fn=<MseLossBackward0>)\n"
     ]
    },
    {
     "name": "stderr",
     "output_type": "stream",
     "text": [
      " 18%|█▊        | 9/50 [00:05<00:20,  2.04it/s]"
     ]
    },
    {
     "name": "stdout",
     "output_type": "stream",
     "text": [
      "epoch: 8 train_epoch_loss: 0.011298441793769598 val_epoch_loss: 0.009718315210193396\n",
      "loss: tensor(0.0170, device='cuda:0', grad_fn=<MseLossBackward0>)\n",
      "loss: tensor(0.0053, device='cuda:0', grad_fn=<MseLossBackward0>)\n",
      "loss: tensor(0.0096, device='cuda:0', grad_fn=<MseLossBackward0>)\n",
      "loss: tensor(0.0058, device='cuda:0', grad_fn=<MseLossBackward0>)\n",
      "loss: tensor(0.0123, device='cuda:0', grad_fn=<MseLossBackward0>)\n",
      "loss: tensor(0.0069, device='cuda:0', grad_fn=<MseLossBackward0>)\n",
      "loss: tensor(0.0039, device='cuda:0', grad_fn=<MseLossBackward0>)\n",
      "loss: tensor(0.0049, device='cuda:0', grad_fn=<MseLossBackward0>)\n",
      "loss: tensor(0.0169, device='cuda:0', grad_fn=<MseLossBackward0>)\n",
      "loss: tensor(0.0192, device='cuda:0', grad_fn=<MseLossBackward0>)\n",
      "loss: tensor(0.1411, device='cuda:0', grad_fn=<MseLossBackward0>)\n"
     ]
    },
    {
     "name": "stderr",
     "output_type": "stream",
     "text": [
      " 20%|██        | 10/50 [00:05<00:18,  2.13it/s]"
     ]
    },
    {
     "name": "stdout",
     "output_type": "stream",
     "text": [
      "epoch: 9 train_epoch_loss: 0.022066892272877423 val_epoch_loss: 0.008791400818154216\n",
      "loss: tensor(0.0066, device='cuda:0', grad_fn=<MseLossBackward0>)\n",
      "loss: tensor(0.0049, device='cuda:0', grad_fn=<MseLossBackward0>)\n",
      "loss: tensor(0.0110, device='cuda:0', grad_fn=<MseLossBackward0>)\n",
      "loss: tensor(0.0018, device='cuda:0', grad_fn=<MseLossBackward0>)\n",
      "loss: tensor(0.0130, device='cuda:0', grad_fn=<MseLossBackward0>)\n",
      "loss: tensor(0.0084, device='cuda:0', grad_fn=<MseLossBackward0>)\n",
      "loss: tensor(0.0046, device='cuda:0', grad_fn=<MseLossBackward0>)\n",
      "loss: tensor(0.0083, device='cuda:0', grad_fn=<MseLossBackward0>)\n",
      "loss: tensor(0.0099, device='cuda:0', grad_fn=<MseLossBackward0>)\n",
      "loss: tensor(0.0124, device='cuda:0', grad_fn=<MseLossBackward0>)\n",
      "loss: tensor(0.0037, device='cuda:0', grad_fn=<MseLossBackward0>)\n"
     ]
    },
    {
     "name": "stderr",
     "output_type": "stream",
     "text": [
      " 22%|██▏       | 11/50 [00:05<00:17,  2.20it/s]"
     ]
    },
    {
     "name": "stdout",
     "output_type": "stream",
     "text": [
      "epoch: 10 train_epoch_loss: 0.007697279342788865 val_epoch_loss: 0.00859216006938368\n",
      "loss: tensor(0.0041, device='cuda:0', grad_fn=<MseLossBackward0>)\n",
      "loss: tensor(0.0038, device='cuda:0', grad_fn=<MseLossBackward0>)\n",
      "loss: tensor(0.0141, device='cuda:0', grad_fn=<MseLossBackward0>)\n",
      "loss: tensor(0.0044, device='cuda:0', grad_fn=<MseLossBackward0>)\n",
      "loss: tensor(0.0063, device='cuda:0', grad_fn=<MseLossBackward0>)\n",
      "loss: tensor(0.0045, device='cuda:0', grad_fn=<MseLossBackward0>)\n",
      "loss: tensor(0.0105, device='cuda:0', grad_fn=<MseLossBackward0>)\n",
      "loss: tensor(0.0110, device='cuda:0', grad_fn=<MseLossBackward0>)\n",
      "loss: tensor(0.0095, device='cuda:0', grad_fn=<MseLossBackward0>)\n",
      "loss: tensor(0.0085, device='cuda:0', grad_fn=<MseLossBackward0>)\n",
      "loss: tensor(0.0026, device='cuda:0', grad_fn=<MseLossBackward0>)\n",
      "epoch: 11 train_epoch_loss: 0.007205801296301864 val_epoch_loss: 0.006194364919792861\n",
      "best_test_loss ------------------------------------------------- 0.006194364919792861\n"
     ]
    },
    {
     "name": "stderr",
     "output_type": "stream",
     "text": [
      " 24%|██▍       | 12/50 [00:06<00:19,  1.98it/s]"
     ]
    },
    {
     "name": "stdout",
     "output_type": "stream",
     "text": [
      "loss: tensor(0.0092, device='cuda:0', grad_fn=<MseLossBackward0>)\n",
      "loss: tensor(0.0155, device='cuda:0', grad_fn=<MseLossBackward0>)\n",
      "loss: tensor(0.0019, device='cuda:0', grad_fn=<MseLossBackward0>)\n",
      "loss: tensor(0.0026, device='cuda:0', grad_fn=<MseLossBackward0>)\n",
      "loss: tensor(0.0117, device='cuda:0', grad_fn=<MseLossBackward0>)\n",
      "loss: tensor(0.0044, device='cuda:0', grad_fn=<MseLossBackward0>)\n",
      "loss: tensor(0.0113, device='cuda:0', grad_fn=<MseLossBackward0>)\n",
      "loss: tensor(0.0051, device='cuda:0', grad_fn=<MseLossBackward0>)\n",
      "loss: tensor(0.0036, device='cuda:0', grad_fn=<MseLossBackward0>)\n",
      "loss: tensor(0.0079, device='cuda:0', grad_fn=<MseLossBackward0>)\n",
      "loss: tensor(0.0047, device='cuda:0', grad_fn=<MseLossBackward0>)\n"
     ]
    },
    {
     "name": "stderr",
     "output_type": "stream",
     "text": [
      " 26%|██▌       | 13/50 [00:07<00:18,  2.04it/s]"
     ]
    },
    {
     "name": "stdout",
     "output_type": "stream",
     "text": [
      "epoch: 12 train_epoch_loss: 0.007083202881569212 val_epoch_loss: 0.0069453260221052915\n",
      "loss: tensor(0.0078, device='cuda:0', grad_fn=<MseLossBackward0>)\n",
      "loss: tensor(0.0111, device='cuda:0', grad_fn=<MseLossBackward0>)\n",
      "loss: tensor(0.0059, device='cuda:0', grad_fn=<MseLossBackward0>)\n",
      "loss: tensor(0.0082, device='cuda:0', grad_fn=<MseLossBackward0>)\n",
      "loss: tensor(0.0065, device='cuda:0', grad_fn=<MseLossBackward0>)\n",
      "loss: tensor(0.0074, device='cuda:0', grad_fn=<MseLossBackward0>)\n",
      "loss: tensor(0.0061, device='cuda:0', grad_fn=<MseLossBackward0>)\n",
      "loss: tensor(0.0110, device='cuda:0', grad_fn=<MseLossBackward0>)\n",
      "loss: tensor(0.0023, device='cuda:0', grad_fn=<MseLossBackward0>)\n",
      "loss: tensor(0.0174, device='cuda:0', grad_fn=<MseLossBackward0>)\n",
      "loss: tensor(0.0086, device='cuda:0', grad_fn=<MseLossBackward0>)\n"
     ]
    },
    {
     "name": "stderr",
     "output_type": "stream",
     "text": [
      " 28%|██▊       | 14/50 [00:07<00:19,  1.87it/s]"
     ]
    },
    {
     "name": "stdout",
     "output_type": "stream",
     "text": [
      "epoch: 13 train_epoch_loss: 0.008380114164372737 val_epoch_loss: 0.005990915582515299\n",
      "best_test_loss ------------------------------------------------- 0.005990915582515299\n",
      "loss: tensor(0.0090, device='cuda:0', grad_fn=<MseLossBackward0>)\n",
      "loss: tensor(0.0115, device='cuda:0', grad_fn=<MseLossBackward0>)\n",
      "loss: tensor(0.0128, device='cuda:0', grad_fn=<MseLossBackward0>)\n",
      "loss: tensor(0.0073, device='cuda:0', grad_fn=<MseLossBackward0>)\n",
      "loss: tensor(0.0071, device='cuda:0', grad_fn=<MseLossBackward0>)\n",
      "loss: tensor(0.0111, device='cuda:0', grad_fn=<MseLossBackward0>)\n",
      "loss: tensor(0.0060, device='cuda:0', grad_fn=<MseLossBackward0>)\n",
      "loss: tensor(0.0024, device='cuda:0', grad_fn=<MseLossBackward0>)\n",
      "loss: tensor(0.0038, device='cuda:0', grad_fn=<MseLossBackward0>)\n",
      "loss: tensor(0.0071, device='cuda:0', grad_fn=<MseLossBackward0>)\n",
      "loss: tensor(0.0051, device='cuda:0', grad_fn=<MseLossBackward0>)\n",
      "epoch: 14 train_epoch_loss: 0.007563447241078724 val_epoch_loss: 0.0059184806304983795\n",
      "best_test_loss ------------------------------------------------- 0.0059184806304983795\n"
     ]
    },
    {
     "name": "stderr",
     "output_type": "stream",
     "text": [
      " 30%|███       | 15/50 [00:08<00:20,  1.72it/s]"
     ]
    },
    {
     "name": "stdout",
     "output_type": "stream",
     "text": [
      "loss: tensor(0.0065, device='cuda:0', grad_fn=<MseLossBackward0>)\n",
      "loss: tensor(0.0065, device='cuda:0', grad_fn=<MseLossBackward0>)\n",
      "loss: tensor(0.0016, device='cuda:0', grad_fn=<MseLossBackward0>)\n",
      "loss: tensor(0.0174, device='cuda:0', grad_fn=<MseLossBackward0>)\n",
      "loss: tensor(0.0035, device='cuda:0', grad_fn=<MseLossBackward0>)\n",
      "loss: tensor(0.0079, device='cuda:0', grad_fn=<MseLossBackward0>)\n",
      "loss: tensor(0.0021, device='cuda:0', grad_fn=<MseLossBackward0>)\n",
      "loss: tensor(0.0049, device='cuda:0', grad_fn=<MseLossBackward0>)\n",
      "loss: tensor(0.0078, device='cuda:0', grad_fn=<MseLossBackward0>)\n",
      "loss: tensor(0.0057, device='cuda:0', grad_fn=<MseLossBackward0>)\n"
     ]
    },
    {
     "name": "stderr",
     "output_type": "stream",
     "text": [
      " 32%|███▏      | 16/50 [00:08<00:18,  1.80it/s]"
     ]
    },
    {
     "name": "stdout",
     "output_type": "stream",
     "text": [
      "loss: tensor(0.0061, device='cuda:0', grad_fn=<MseLossBackward0>)\n",
      "epoch: 15 train_epoch_loss: 0.006384704960510135 val_epoch_loss: 0.0059488649712875485\n",
      "loss: tensor(0.0048, device='cuda:0', grad_fn=<MseLossBackward0>)\n",
      "loss: tensor(0.0115, device='cuda:0', grad_fn=<MseLossBackward0>)\n",
      "loss: tensor(0.0109, device='cuda:0', grad_fn=<MseLossBackward0>)\n",
      "loss: tensor(0.0038, device='cuda:0', grad_fn=<MseLossBackward0>)\n",
      "loss: tensor(0.0029, device='cuda:0', grad_fn=<MseLossBackward0>)\n",
      "loss: tensor(0.0072, device='cuda:0', grad_fn=<MseLossBackward0>)\n",
      "loss: tensor(0.0008, device='cuda:0', grad_fn=<MseLossBackward0>)\n",
      "loss: tensor(0.0056, device='cuda:0', grad_fn=<MseLossBackward0>)\n",
      "loss: tensor(0.0115, device='cuda:0', grad_fn=<MseLossBackward0>)\n",
      "loss: tensor(0.0062, device='cuda:0', grad_fn=<MseLossBackward0>)\n"
     ]
    },
    {
     "name": "stderr",
     "output_type": "stream",
     "text": [
      " 34%|███▍      | 17/50 [00:09<00:17,  1.92it/s]"
     ]
    },
    {
     "name": "stdout",
     "output_type": "stream",
     "text": [
      "loss: tensor(0.0027, device='cuda:0', grad_fn=<MseLossBackward0>)\n",
      "epoch: 16 train_epoch_loss: 0.006179204062474045 val_epoch_loss: 0.006597365019842982\n",
      "loss: tensor(0.0074, device='cuda:0', grad_fn=<MseLossBackward0>)\n",
      "loss: tensor(0.0054, device='cuda:0', grad_fn=<MseLossBackward0>)\n",
      "loss: tensor(0.0071, device='cuda:0', grad_fn=<MseLossBackward0>)\n",
      "loss: tensor(0.0077, device='cuda:0', grad_fn=<MseLossBackward0>)\n",
      "loss: tensor(0.0070, device='cuda:0', grad_fn=<MseLossBackward0>)\n",
      "loss: tensor(0.0037, device='cuda:0', grad_fn=<MseLossBackward0>)\n",
      "loss: tensor(0.0019, device='cuda:0', grad_fn=<MseLossBackward0>)\n",
      "loss: tensor(0.0023, device='cuda:0', grad_fn=<MseLossBackward0>)\n",
      "loss: tensor(0.0080, device='cuda:0', grad_fn=<MseLossBackward0>)\n",
      "loss: tensor(0.0265, device='cuda:0', grad_fn=<MseLossBackward0>)\n"
     ]
    },
    {
     "name": "stderr",
     "output_type": "stream",
     "text": [
      " 36%|███▌      | 18/50 [00:09<00:15,  2.01it/s]"
     ]
    },
    {
     "name": "stdout",
     "output_type": "stream",
     "text": [
      "loss: tensor(0.0023, device='cuda:0', grad_fn=<MseLossBackward0>)\n",
      "epoch: 17 train_epoch_loss: 0.007221896360120313 val_epoch_loss: 0.005961183342151344\n",
      "loss: tensor(0.0049, device='cuda:0', grad_fn=<MseLossBackward0>)\n",
      "loss: tensor(0.0039, device='cuda:0', grad_fn=<MseLossBackward0>)\n",
      "loss: tensor(0.0040, device='cuda:0', grad_fn=<MseLossBackward0>)\n",
      "loss: tensor(0.0043, device='cuda:0', grad_fn=<MseLossBackward0>)\n",
      "loss: tensor(0.0126, device='cuda:0', grad_fn=<MseLossBackward0>)\n",
      "loss: tensor(0.0073, device='cuda:0', grad_fn=<MseLossBackward0>)\n",
      "loss: tensor(0.0139, device='cuda:0', grad_fn=<MseLossBackward0>)\n",
      "loss: tensor(0.0075, device='cuda:0', grad_fn=<MseLossBackward0>)\n",
      "loss: tensor(0.0040, device='cuda:0', grad_fn=<MseLossBackward0>)\n",
      "loss: tensor(0.0101, device='cuda:0', grad_fn=<MseLossBackward0>)\n",
      "loss: tensor(0.0039, device='cuda:0', grad_fn=<MseLossBackward0>)\n",
      "epoch: 18 train_epoch_loss: 0.006943421501835639 val_epoch_loss: 0.005395724903792143\n",
      "best_test_loss ------------------------------------------------- 0.005395724903792143\n"
     ]
    },
    {
     "name": "stderr",
     "output_type": "stream",
     "text": [
      " 38%|███▊      | 19/50 [00:10<00:16,  1.87it/s]"
     ]
    },
    {
     "name": "stdout",
     "output_type": "stream",
     "text": [
      "loss: tensor(0.0024, device='cuda:0', grad_fn=<MseLossBackward0>)\n",
      "loss: tensor(0.0055, device='cuda:0', grad_fn=<MseLossBackward0>)\n",
      "loss: tensor(0.0083, device='cuda:0', grad_fn=<MseLossBackward0>)\n",
      "loss: tensor(0.0046, device='cuda:0', grad_fn=<MseLossBackward0>)\n",
      "loss: tensor(0.0198, device='cuda:0', grad_fn=<MseLossBackward0>)\n",
      "loss: tensor(0.0145, device='cuda:0', grad_fn=<MseLossBackward0>)\n",
      "loss: tensor(0.0039, device='cuda:0', grad_fn=<MseLossBackward0>)\n",
      "loss: tensor(0.0020, device='cuda:0', grad_fn=<MseLossBackward0>)\n",
      "loss: tensor(0.0076, device='cuda:0', grad_fn=<MseLossBackward0>)\n",
      "loss: tensor(0.0103, device='cuda:0', grad_fn=<MseLossBackward0>)\n",
      "loss: tensor(0.0042, device='cuda:0', grad_fn=<MseLossBackward0>)\n",
      "epoch: 19 train_epoch_loss: 0.007547097534618594 val_epoch_loss: 0.004864673886913806\n",
      "best_test_loss ------------------------------------------------- 0.004864673886913806\n"
     ]
    },
    {
     "name": "stderr",
     "output_type": "stream",
     "text": [
      " 40%|████      | 20/50 [00:11<00:17,  1.72it/s]"
     ]
    },
    {
     "name": "stdout",
     "output_type": "stream",
     "text": [
      "loss: tensor(0.0052, device='cuda:0', grad_fn=<MseLossBackward0>)\n",
      "loss: tensor(0.0038, device='cuda:0', grad_fn=<MseLossBackward0>)\n",
      "loss: tensor(0.0029, device='cuda:0', grad_fn=<MseLossBackward0>)\n",
      "loss: tensor(0.0044, device='cuda:0', grad_fn=<MseLossBackward0>)\n",
      "loss: tensor(0.0056, device='cuda:0', grad_fn=<MseLossBackward0>)\n",
      "loss: tensor(0.0015, device='cuda:0', grad_fn=<MseLossBackward0>)\n",
      "loss: tensor(0.0060, device='cuda:0', grad_fn=<MseLossBackward0>)\n",
      "loss: tensor(0.0125, device='cuda:0', grad_fn=<MseLossBackward0>)\n",
      "loss: tensor(0.0061, device='cuda:0', grad_fn=<MseLossBackward0>)\n",
      "loss: tensor(0.0058, device='cuda:0', grad_fn=<MseLossBackward0>)\n"
     ]
    },
    {
     "name": "stderr",
     "output_type": "stream",
     "text": [
      " 42%|████▏     | 21/50 [00:11<00:16,  1.80it/s]"
     ]
    },
    {
     "name": "stdout",
     "output_type": "stream",
     "text": [
      "loss: tensor(0.0058, device='cuda:0', grad_fn=<MseLossBackward0>)\n",
      "epoch: 20 train_epoch_loss: 0.005414444201795215 val_epoch_loss: 0.00592965554096736\n",
      "loss: tensor(0.0049, device='cuda:0', grad_fn=<MseLossBackward0>)\n",
      "loss: tensor(0.0101, device='cuda:0', grad_fn=<MseLossBackward0>)\n",
      "loss: tensor(0.0047, device='cuda:0', grad_fn=<MseLossBackward0>)\n",
      "loss: tensor(0.0089, device='cuda:0', grad_fn=<MseLossBackward0>)\n",
      "loss: tensor(0.0085, device='cuda:0', grad_fn=<MseLossBackward0>)\n",
      "loss: tensor(0.0040, device='cuda:0', grad_fn=<MseLossBackward0>)\n",
      "loss: tensor(0.0085, device='cuda:0', grad_fn=<MseLossBackward0>)\n",
      "loss: tensor(0.0044, device='cuda:0', grad_fn=<MseLossBackward0>)\n",
      "loss: tensor(0.0068, device='cuda:0', grad_fn=<MseLossBackward0>)\n",
      "loss: tensor(0.0026, device='cuda:0', grad_fn=<MseLossBackward0>)\n"
     ]
    },
    {
     "name": "stderr",
     "output_type": "stream",
     "text": [
      " 44%|████▍     | 22/50 [00:12<00:14,  1.91it/s]"
     ]
    },
    {
     "name": "stdout",
     "output_type": "stream",
     "text": [
      "loss: tensor(0.0045, device='cuda:0', grad_fn=<MseLossBackward0>)\n",
      "epoch: 21 train_epoch_loss: 0.0061839362183077765 val_epoch_loss: 0.004934762779157609\n",
      "loss: tensor(0.0065, device='cuda:0', grad_fn=<MseLossBackward0>)\n",
      "loss: tensor(0.0033, device='cuda:0', grad_fn=<MseLossBackward0>)\n",
      "loss: tensor(0.0038, device='cuda:0', grad_fn=<MseLossBackward0>)\n",
      "loss: tensor(0.0041, device='cuda:0', grad_fn=<MseLossBackward0>)\n",
      "loss: tensor(0.0047, device='cuda:0', grad_fn=<MseLossBackward0>)\n",
      "loss: tensor(0.0033, device='cuda:0', grad_fn=<MseLossBackward0>)\n",
      "loss: tensor(0.0042, device='cuda:0', grad_fn=<MseLossBackward0>)\n",
      "loss: tensor(0.0044, device='cuda:0', grad_fn=<MseLossBackward0>)\n",
      "loss: tensor(0.0029, device='cuda:0', grad_fn=<MseLossBackward0>)\n",
      "loss: tensor(0.0012, device='cuda:0', grad_fn=<MseLossBackward0>)\n"
     ]
    },
    {
     "name": "stderr",
     "output_type": "stream",
     "text": [
      " 46%|████▌     | 23/50 [00:12<00:13,  2.01it/s]"
     ]
    },
    {
     "name": "stdout",
     "output_type": "stream",
     "text": [
      "loss: tensor(0.0051, device='cuda:0', grad_fn=<MseLossBackward0>)\n",
      "epoch: 22 train_epoch_loss: 0.003968255954201926 val_epoch_loss: 0.007659449242055416\n",
      "loss: tensor(0.0035, device='cuda:0', grad_fn=<MseLossBackward0>)\n",
      "loss: tensor(0.0198, device='cuda:0', grad_fn=<MseLossBackward0>)\n",
      "loss: tensor(0.0017, device='cuda:0', grad_fn=<MseLossBackward0>)\n",
      "loss: tensor(0.0050, device='cuda:0', grad_fn=<MseLossBackward0>)\n",
      "loss: tensor(0.0040, device='cuda:0', grad_fn=<MseLossBackward0>)\n",
      "loss: tensor(0.0045, device='cuda:0', grad_fn=<MseLossBackward0>)\n",
      "loss: tensor(0.0084, device='cuda:0', grad_fn=<MseLossBackward0>)\n",
      "loss: tensor(0.0051, device='cuda:0', grad_fn=<MseLossBackward0>)\n",
      "loss: tensor(0.0021, device='cuda:0', grad_fn=<MseLossBackward0>)\n",
      "loss: tensor(0.0067, device='cuda:0', grad_fn=<MseLossBackward0>)\n"
     ]
    },
    {
     "name": "stderr",
     "output_type": "stream",
     "text": [
      " 48%|████▊     | 24/50 [00:12<00:12,  2.08it/s]"
     ]
    },
    {
     "name": "stdout",
     "output_type": "stream",
     "text": [
      "loss: tensor(0.0050, device='cuda:0', grad_fn=<MseLossBackward0>)\n",
      "epoch: 23 train_epoch_loss: 0.005992675623433156 val_epoch_loss: 0.0048860685783438385\n",
      "loss: tensor(0.0028, device='cuda:0', grad_fn=<MseLossBackward0>)\n",
      "loss: tensor(0.0048, device='cuda:0', grad_fn=<MseLossBackward0>)\n",
      "loss: tensor(0.0018, device='cuda:0', grad_fn=<MseLossBackward0>)\n",
      "loss: tensor(0.0061, device='cuda:0', grad_fn=<MseLossBackward0>)\n",
      "loss: tensor(0.0071, device='cuda:0', grad_fn=<MseLossBackward0>)\n",
      "loss: tensor(0.0092, device='cuda:0', grad_fn=<MseLossBackward0>)\n",
      "loss: tensor(0.0060, device='cuda:0', grad_fn=<MseLossBackward0>)\n",
      "loss: tensor(0.0052, device='cuda:0', grad_fn=<MseLossBackward0>)\n",
      "loss: tensor(0.0024, device='cuda:0', grad_fn=<MseLossBackward0>)\n",
      "loss: tensor(0.0031, device='cuda:0', grad_fn=<MseLossBackward0>)\n",
      "loss: tensor(0.0071, device='cuda:0', grad_fn=<MseLossBackward0>)\n",
      "epoch: 24 train_epoch_loss: 0.005040201908824119 val_epoch_loss: 0.00459380226675421\n",
      "best_test_loss ------------------------------------------------- 0.00459380226675421\n"
     ]
    },
    {
     "name": "stderr",
     "output_type": "stream",
     "text": [
      " 50%|█████     | 25/50 [00:13<00:13,  1.89it/s]"
     ]
    },
    {
     "name": "stdout",
     "output_type": "stream",
     "text": [
      "loss: tensor(0.0016, device='cuda:0', grad_fn=<MseLossBackward0>)\n",
      "loss: tensor(0.0022, device='cuda:0', grad_fn=<MseLossBackward0>)\n",
      "loss: tensor(0.0030, device='cuda:0', grad_fn=<MseLossBackward0>)\n",
      "loss: tensor(0.0013, device='cuda:0', grad_fn=<MseLossBackward0>)\n",
      "loss: tensor(0.0047, device='cuda:0', grad_fn=<MseLossBackward0>)\n",
      "loss: tensor(0.0047, device='cuda:0', grad_fn=<MseLossBackward0>)\n",
      "loss: tensor(0.0033, device='cuda:0', grad_fn=<MseLossBackward0>)\n",
      "loss: tensor(0.0047, device='cuda:0', grad_fn=<MseLossBackward0>)\n",
      "loss: tensor(0.0066, device='cuda:0', grad_fn=<MseLossBackward0>)\n",
      "loss: tensor(0.0042, device='cuda:0', grad_fn=<MseLossBackward0>)\n"
     ]
    },
    {
     "name": "stderr",
     "output_type": "stream",
     "text": [
      " 52%|█████▏    | 26/50 [00:14<00:12,  1.92it/s]"
     ]
    },
    {
     "name": "stdout",
     "output_type": "stream",
     "text": [
      "loss: tensor(0.0031, device='cuda:0', grad_fn=<MseLossBackward0>)\n",
      "epoch: 25 train_epoch_loss: 0.0035896968964317984 val_epoch_loss: 0.0061344875721260905\n",
      "loss: tensor(0.0061, device='cuda:0', grad_fn=<MseLossBackward0>)\n",
      "loss: tensor(0.0037, device='cuda:0', grad_fn=<MseLossBackward0>)\n",
      "loss: tensor(0.0113, device='cuda:0', grad_fn=<MseLossBackward0>)\n",
      "loss: tensor(0.0064, device='cuda:0', grad_fn=<MseLossBackward0>)\n",
      "loss: tensor(0.0030, device='cuda:0', grad_fn=<MseLossBackward0>)\n",
      "loss: tensor(0.0051, device='cuda:0', grad_fn=<MseLossBackward0>)\n",
      "loss: tensor(0.0060, device='cuda:0', grad_fn=<MseLossBackward0>)\n",
      "loss: tensor(0.0054, device='cuda:0', grad_fn=<MseLossBackward0>)\n",
      "loss: tensor(0.0049, device='cuda:0', grad_fn=<MseLossBackward0>)\n",
      "loss: tensor(0.0036, device='cuda:0', grad_fn=<MseLossBackward0>)\n",
      "loss: tensor(0.0020, device='cuda:0', grad_fn=<MseLossBackward0>)\n",
      "epoch: 26 train_epoch_loss: 0.005224575542590835 val_epoch_loss: 0.004209920822177082\n",
      "best_test_loss ------------------------------------------------- 0.004209920822177082\n"
     ]
    },
    {
     "name": "stderr",
     "output_type": "stream",
     "text": [
      " 54%|█████▍    | 27/50 [00:14<00:12,  1.82it/s]"
     ]
    },
    {
     "name": "stdout",
     "output_type": "stream",
     "text": [
      "loss: tensor(0.0101, device='cuda:0', grad_fn=<MseLossBackward0>)\n",
      "loss: tensor(0.0025, device='cuda:0', grad_fn=<MseLossBackward0>)\n",
      "loss: tensor(0.0053, device='cuda:0', grad_fn=<MseLossBackward0>)\n",
      "loss: tensor(0.0027, device='cuda:0', grad_fn=<MseLossBackward0>)\n",
      "loss: tensor(0.0128, device='cuda:0', grad_fn=<MseLossBackward0>)\n",
      "loss: tensor(0.0079, device='cuda:0', grad_fn=<MseLossBackward0>)\n",
      "loss: tensor(0.0030, device='cuda:0', grad_fn=<MseLossBackward0>)\n",
      "loss: tensor(0.0074, device='cuda:0', grad_fn=<MseLossBackward0>)\n",
      "loss: tensor(0.0091, device='cuda:0', grad_fn=<MseLossBackward0>)\n",
      "loss: tensor(0.0043, device='cuda:0', grad_fn=<MseLossBackward0>)\n",
      "loss: tensor(0.0063, device='cuda:0', grad_fn=<MseLossBackward0>)\n"
     ]
    },
    {
     "name": "stderr",
     "output_type": "stream",
     "text": [
      " 56%|█████▌    | 28/50 [00:15<00:11,  1.89it/s]"
     ]
    },
    {
     "name": "stdout",
     "output_type": "stream",
     "text": [
      "epoch: 27 train_epoch_loss: 0.006490834671157328 val_epoch_loss: 0.006543534575030208\n",
      "loss: tensor(0.0048, device='cuda:0', grad_fn=<MseLossBackward0>)\n",
      "loss: tensor(0.0045, device='cuda:0', grad_fn=<MseLossBackward0>)\n",
      "loss: tensor(0.0048, device='cuda:0', grad_fn=<MseLossBackward0>)\n",
      "loss: tensor(0.0162, device='cuda:0', grad_fn=<MseLossBackward0>)\n",
      "loss: tensor(0.0042, device='cuda:0', grad_fn=<MseLossBackward0>)\n",
      "loss: tensor(0.0055, device='cuda:0', grad_fn=<MseLossBackward0>)\n",
      "loss: tensor(0.0032, device='cuda:0', grad_fn=<MseLossBackward0>)\n",
      "loss: tensor(0.0058, device='cuda:0', grad_fn=<MseLossBackward0>)\n",
      "loss: tensor(0.0056, device='cuda:0', grad_fn=<MseLossBackward0>)\n",
      "loss: tensor(0.0037, device='cuda:0', grad_fn=<MseLossBackward0>)\n",
      "loss: tensor(0.0059, device='cuda:0', grad_fn=<MseLossBackward0>)\n"
     ]
    },
    {
     "name": "stderr",
     "output_type": "stream",
     "text": [
      " 58%|█████▊    | 29/50 [00:15<00:11,  1.80it/s]"
     ]
    },
    {
     "name": "stdout",
     "output_type": "stream",
     "text": [
      "epoch: 28 train_epoch_loss: 0.005838117117739536 val_epoch_loss: 0.004034175100969151\n",
      "best_test_loss ------------------------------------------------- 0.004034175100969151\n",
      "loss: tensor(0.0080, device='cuda:0', grad_fn=<MseLossBackward0>)\n",
      "loss: tensor(0.0065, device='cuda:0', grad_fn=<MseLossBackward0>)\n",
      "loss: tensor(0.0041, device='cuda:0', grad_fn=<MseLossBackward0>)\n",
      "loss: tensor(0.0049, device='cuda:0', grad_fn=<MseLossBackward0>)\n",
      "loss: tensor(0.0017, device='cuda:0', grad_fn=<MseLossBackward0>)\n",
      "loss: tensor(0.0020, device='cuda:0', grad_fn=<MseLossBackward0>)\n",
      "loss: tensor(0.0050, device='cuda:0', grad_fn=<MseLossBackward0>)\n"
     ]
    },
    {
     "name": "stderr",
     "output_type": "stream",
     "text": [
      " 60%|██████    | 30/50 [00:16<00:10,  1.90it/s]"
     ]
    },
    {
     "name": "stdout",
     "output_type": "stream",
     "text": [
      "loss: tensor(0.0027, device='cuda:0', grad_fn=<MseLossBackward0>)\n",
      "loss: tensor(0.0073, device='cuda:0', grad_fn=<MseLossBackward0>)\n",
      "loss: tensor(0.0076, device='cuda:0', grad_fn=<MseLossBackward0>)\n",
      "loss: tensor(0.0036, device='cuda:0', grad_fn=<MseLossBackward0>)\n",
      "epoch: 29 train_epoch_loss: 0.004847739547999067 val_epoch_loss: 0.004271767451427877\n",
      "loss: tensor(0.0029, device='cuda:0', grad_fn=<MseLossBackward0>)\n",
      "loss: tensor(0.0042, device='cuda:0', grad_fn=<MseLossBackward0>)\n",
      "loss: tensor(0.0032, device='cuda:0', grad_fn=<MseLossBackward0>)\n",
      "loss: tensor(0.0044, device='cuda:0', grad_fn=<MseLossBackward0>)\n",
      "loss: tensor(0.0035, device='cuda:0', grad_fn=<MseLossBackward0>)\n",
      "loss: tensor(0.0081, device='cuda:0', grad_fn=<MseLossBackward0>)\n",
      "loss: tensor(0.0095, device='cuda:0', grad_fn=<MseLossBackward0>)\n",
      "loss: tensor(0.0075, device='cuda:0', grad_fn=<MseLossBackward0>)\n",
      "loss: tensor(0.0035, device='cuda:0', grad_fn=<MseLossBackward0>)\n",
      "loss: tensor(0.0043, device='cuda:0', grad_fn=<MseLossBackward0>)\n",
      "loss: tensor(0.0027, device='cuda:0', grad_fn=<MseLossBackward0>)\n",
      "epoch: 30 train_epoch_loss: 0.00489972741343081 val_epoch_loss: 0.00287086219759658\n",
      "best_test_loss ------------------------------------------------- 0.00287086219759658\n"
     ]
    },
    {
     "name": "stderr",
     "output_type": "stream",
     "text": [
      " 62%|██████▏   | 31/50 [00:16<00:10,  1.84it/s]"
     ]
    },
    {
     "name": "stdout",
     "output_type": "stream",
     "text": [
      "loss: tensor(0.0050, device='cuda:0', grad_fn=<MseLossBackward0>)\n",
      "loss: tensor(0.0052, device='cuda:0', grad_fn=<MseLossBackward0>)\n",
      "loss: tensor(0.0017, device='cuda:0', grad_fn=<MseLossBackward0>)\n",
      "loss: tensor(0.0052, device='cuda:0', grad_fn=<MseLossBackward0>)\n",
      "loss: tensor(0.0043, device='cuda:0', grad_fn=<MseLossBackward0>)\n",
      "loss: tensor(0.0036, device='cuda:0', grad_fn=<MseLossBackward0>)\n",
      "loss: tensor(0.0067, device='cuda:0', grad_fn=<MseLossBackward0>)\n"
     ]
    },
    {
     "name": "stderr",
     "output_type": "stream",
     "text": [
      " 64%|██████▍   | 32/50 [00:17<00:08,  2.01it/s]"
     ]
    },
    {
     "name": "stdout",
     "output_type": "stream",
     "text": [
      "loss: tensor(0.0009, device='cuda:0', grad_fn=<MseLossBackward0>)\n",
      "loss: tensor(0.0094, device='cuda:0', grad_fn=<MseLossBackward0>)\n",
      "loss: tensor(0.0024, device='cuda:0', grad_fn=<MseLossBackward0>)\n",
      "loss: tensor(0.0019, device='cuda:0', grad_fn=<MseLossBackward0>)\n",
      "epoch: 31 train_epoch_loss: 0.004210294885772534 val_epoch_loss: 0.003999478678451851\n",
      "loss: tensor(0.0047, device='cuda:0', grad_fn=<MseLossBackward0>)\n",
      "loss: tensor(0.0060, device='cuda:0', grad_fn=<MseLossBackward0>)\n",
      "loss: tensor(0.0042, device='cuda:0', grad_fn=<MseLossBackward0>)\n",
      "loss: tensor(0.0027, device='cuda:0', grad_fn=<MseLossBackward0>)\n",
      "loss: tensor(0.0063, device='cuda:0', grad_fn=<MseLossBackward0>)\n",
      "loss: tensor(0.0025, device='cuda:0', grad_fn=<MseLossBackward0>)\n",
      "loss: tensor(0.0023, device='cuda:0', grad_fn=<MseLossBackward0>)\n"
     ]
    },
    {
     "name": "stderr",
     "output_type": "stream",
     "text": [
      " 66%|██████▌   | 33/50 [00:17<00:08,  2.11it/s]"
     ]
    },
    {
     "name": "stdout",
     "output_type": "stream",
     "text": [
      "loss: tensor(0.0043, device='cuda:0', grad_fn=<MseLossBackward0>)\n",
      "loss: tensor(0.0007, device='cuda:0', grad_fn=<MseLossBackward0>)\n",
      "loss: tensor(0.0027, device='cuda:0', grad_fn=<MseLossBackward0>)\n",
      "loss: tensor(0.0072, device='cuda:0', grad_fn=<MseLossBackward0>)\n",
      "epoch: 32 train_epoch_loss: 0.00395801549100063 val_epoch_loss: 0.0035255866532679647\n",
      "loss: tensor(0.0028, device='cuda:0', grad_fn=<MseLossBackward0>)\n",
      "loss: tensor(0.0068, device='cuda:0', grad_fn=<MseLossBackward0>)\n",
      "loss: tensor(0.0040, device='cuda:0', grad_fn=<MseLossBackward0>)\n",
      "loss: tensor(0.0055, device='cuda:0', grad_fn=<MseLossBackward0>)\n",
      "loss: tensor(0.0053, device='cuda:0', grad_fn=<MseLossBackward0>)\n",
      "loss: tensor(0.0035, device='cuda:0', grad_fn=<MseLossBackward0>)\n",
      "loss: tensor(0.0019, device='cuda:0', grad_fn=<MseLossBackward0>)\n",
      "loss: tensor(0.0039, device='cuda:0', grad_fn=<MseLossBackward0>)\n",
      "loss: tensor(0.0026, device='cuda:0', grad_fn=<MseLossBackward0>)\n",
      "loss: tensor(0.0062, device='cuda:0', grad_fn=<MseLossBackward0>)\n",
      "loss: tensor(0.0013, device='cuda:0', grad_fn=<MseLossBackward0>)\n",
      "epoch: 33 train_epoch_loss: 0.003981072159314697 val_epoch_loss: 0.0026117892120964825\n",
      "best_test_loss ------------------------------------------------- 0.0026117892120964825\n"
     ]
    },
    {
     "name": "stderr",
     "output_type": "stream",
     "text": [
      " 68%|██████▊   | 34/50 [00:18<00:08,  2.00it/s]"
     ]
    },
    {
     "name": "stdout",
     "output_type": "stream",
     "text": [
      "loss: tensor(0.0072, device='cuda:0', grad_fn=<MseLossBackward0>)\n",
      "loss: tensor(0.0020, device='cuda:0', grad_fn=<MseLossBackward0>)\n",
      "loss: tensor(0.0019, device='cuda:0', grad_fn=<MseLossBackward0>)\n",
      "loss: tensor(0.0061, device='cuda:0', grad_fn=<MseLossBackward0>)\n",
      "loss: tensor(0.0052, device='cuda:0', grad_fn=<MseLossBackward0>)\n",
      "loss: tensor(0.0045, device='cuda:0', grad_fn=<MseLossBackward0>)\n",
      "loss: tensor(0.0038, device='cuda:0', grad_fn=<MseLossBackward0>)\n"
     ]
    },
    {
     "name": "stderr",
     "output_type": "stream",
     "text": [
      " 70%|███████   | 35/50 [00:18<00:06,  2.18it/s]"
     ]
    },
    {
     "name": "stdout",
     "output_type": "stream",
     "text": [
      "loss: tensor(0.0024, device='cuda:0', grad_fn=<MseLossBackward0>)\n",
      "loss: tensor(0.0056, device='cuda:0', grad_fn=<MseLossBackward0>)\n",
      "loss: tensor(0.0030, device='cuda:0', grad_fn=<MseLossBackward0>)\n",
      "loss: tensor(0.0011, device='cuda:0', grad_fn=<MseLossBackward0>)\n",
      "epoch: 34 train_epoch_loss: 0.0039040678900412536 val_epoch_loss: 0.004291717312298715\n",
      "loss: tensor(0.0047, device='cuda:0', grad_fn=<MseLossBackward0>)\n",
      "loss: tensor(0.0034, device='cuda:0', grad_fn=<MseLossBackward0>)\n",
      "loss: tensor(0.0063, device='cuda:0', grad_fn=<MseLossBackward0>)\n",
      "loss: tensor(0.0020, device='cuda:0', grad_fn=<MseLossBackward0>)\n",
      "loss: tensor(0.0145, device='cuda:0', grad_fn=<MseLossBackward0>)\n",
      "loss: tensor(0.0032, device='cuda:0', grad_fn=<MseLossBackward0>)\n",
      "loss: tensor(0.0043, device='cuda:0', grad_fn=<MseLossBackward0>)\n",
      "loss: tensor(0.0029, device='cuda:0', grad_fn=<MseLossBackward0>)\n"
     ]
    },
    {
     "name": "stderr",
     "output_type": "stream",
     "text": [
      " 72%|███████▏  | 36/50 [00:18<00:06,  2.25it/s]"
     ]
    },
    {
     "name": "stdout",
     "output_type": "stream",
     "text": [
      "loss: tensor(0.0051, device='cuda:0', grad_fn=<MseLossBackward0>)\n",
      "loss: tensor(0.0055, device='cuda:0', grad_fn=<MseLossBackward0>)\n",
      "loss: tensor(0.0033, device='cuda:0', grad_fn=<MseLossBackward0>)\n",
      "epoch: 35 train_epoch_loss: 0.005020169731737537 val_epoch_loss: 0.005350717168767005\n",
      "loss: tensor(0.0046, device='cuda:0', grad_fn=<MseLossBackward0>)\n",
      "loss: tensor(0.0043, device='cuda:0', grad_fn=<MseLossBackward0>)\n",
      "loss: tensor(0.0035, device='cuda:0', grad_fn=<MseLossBackward0>)\n",
      "loss: tensor(0.0036, device='cuda:0', grad_fn=<MseLossBackward0>)\n",
      "loss: tensor(0.0031, device='cuda:0', grad_fn=<MseLossBackward0>)\n",
      "loss: tensor(0.0050, device='cuda:0', grad_fn=<MseLossBackward0>)\n",
      "loss: tensor(0.0074, device='cuda:0', grad_fn=<MseLossBackward0>)\n",
      "loss: tensor(0.0022, device='cuda:0', grad_fn=<MseLossBackward0>)\n"
     ]
    },
    {
     "name": "stderr",
     "output_type": "stream",
     "text": [
      " 74%|███████▍  | 37/50 [00:19<00:05,  2.25it/s]"
     ]
    },
    {
     "name": "stdout",
     "output_type": "stream",
     "text": [
      "loss: tensor(0.0035, device='cuda:0', grad_fn=<MseLossBackward0>)\n",
      "loss: tensor(0.0047, device='cuda:0', grad_fn=<MseLossBackward0>)\n",
      "loss: tensor(0.0071, device='cuda:0', grad_fn=<MseLossBackward0>)\n",
      "epoch: 36 train_epoch_loss: 0.004457191627641971 val_epoch_loss: 0.005998234380967915\n",
      "loss: tensor(0.0075, device='cuda:0', grad_fn=<MseLossBackward0>)\n",
      "loss: tensor(0.0023, device='cuda:0', grad_fn=<MseLossBackward0>)\n",
      "loss: tensor(0.0027, device='cuda:0', grad_fn=<MseLossBackward0>)\n",
      "loss: tensor(0.0063, device='cuda:0', grad_fn=<MseLossBackward0>)\n",
      "loss: tensor(0.0031, device='cuda:0', grad_fn=<MseLossBackward0>)\n",
      "loss: tensor(0.0031, device='cuda:0', grad_fn=<MseLossBackward0>)\n",
      "loss: tensor(0.0031, device='cuda:0', grad_fn=<MseLossBackward0>)\n",
      "loss: tensor(0.0075, device='cuda:0', grad_fn=<MseLossBackward0>)\n"
     ]
    },
    {
     "name": "stderr",
     "output_type": "stream",
     "text": [
      " 76%|███████▌  | 38/50 [00:19<00:05,  2.24it/s]"
     ]
    },
    {
     "name": "stdout",
     "output_type": "stream",
     "text": [
      "loss: tensor(0.0053, device='cuda:0', grad_fn=<MseLossBackward0>)\n",
      "loss: tensor(0.0024, device='cuda:0', grad_fn=<MseLossBackward0>)\n",
      "loss: tensor(0.0053, device='cuda:0', grad_fn=<MseLossBackward0>)\n",
      "epoch: 37 train_epoch_loss: 0.004415752726014365 val_epoch_loss: 0.005516698642168194\n",
      "loss: tensor(0.0023, device='cuda:0', grad_fn=<MseLossBackward0>)\n",
      "loss: tensor(0.0031, device='cuda:0', grad_fn=<MseLossBackward0>)\n",
      "loss: tensor(0.0065, device='cuda:0', grad_fn=<MseLossBackward0>)\n",
      "loss: tensor(0.0085, device='cuda:0', grad_fn=<MseLossBackward0>)\n",
      "loss: tensor(0.0047, device='cuda:0', grad_fn=<MseLossBackward0>)\n",
      "loss: tensor(0.0017, device='cuda:0', grad_fn=<MseLossBackward0>)\n",
      "loss: tensor(0.0027, device='cuda:0', grad_fn=<MseLossBackward0>)\n",
      "loss: tensor(0.0050, device='cuda:0', grad_fn=<MseLossBackward0>)\n"
     ]
    },
    {
     "name": "stderr",
     "output_type": "stream",
     "text": [
      " 78%|███████▊  | 39/50 [00:20<00:04,  2.25it/s]"
     ]
    },
    {
     "name": "stdout",
     "output_type": "stream",
     "text": [
      "loss: tensor(0.0086, device='cuda:0', grad_fn=<MseLossBackward0>)\n",
      "loss: tensor(0.0040, device='cuda:0', grad_fn=<MseLossBackward0>)\n",
      "loss: tensor(0.0031, device='cuda:0', grad_fn=<MseLossBackward0>)\n",
      "epoch: 38 train_epoch_loss: 0.004574855323880911 val_epoch_loss: 0.0033210532856173813\n",
      "loss: tensor(0.0032, device='cuda:0', grad_fn=<MseLossBackward0>)\n",
      "loss: tensor(0.0047, device='cuda:0', grad_fn=<MseLossBackward0>)\n",
      "loss: tensor(0.0039, device='cuda:0', grad_fn=<MseLossBackward0>)\n",
      "loss: tensor(0.0060, device='cuda:0', grad_fn=<MseLossBackward0>)\n",
      "loss: tensor(0.0034, device='cuda:0', grad_fn=<MseLossBackward0>)\n",
      "loss: tensor(0.0034, device='cuda:0', grad_fn=<MseLossBackward0>)\n",
      "loss: tensor(0.0027, device='cuda:0', grad_fn=<MseLossBackward0>)\n",
      "loss: tensor(0.0036, device='cuda:0', grad_fn=<MseLossBackward0>)\n"
     ]
    },
    {
     "name": "stderr",
     "output_type": "stream",
     "text": [
      " 80%|████████  | 40/50 [00:20<00:04,  2.23it/s]"
     ]
    },
    {
     "name": "stdout",
     "output_type": "stream",
     "text": [
      "loss: tensor(0.0034, device='cuda:0', grad_fn=<MseLossBackward0>)\n",
      "loss: tensor(0.0056, device='cuda:0', grad_fn=<MseLossBackward0>)\n",
      "loss: tensor(0.0051, device='cuda:0', grad_fn=<MseLossBackward0>)\n",
      "epoch: 39 train_epoch_loss: 0.004097441973334009 val_epoch_loss: 0.003910162660758942\n",
      "loss: tensor(0.0058, device='cuda:0', grad_fn=<MseLossBackward0>)\n",
      "loss: tensor(0.0047, device='cuda:0', grad_fn=<MseLossBackward0>)\n",
      "loss: tensor(0.0048, device='cuda:0', grad_fn=<MseLossBackward0>)\n",
      "loss: tensor(0.0023, device='cuda:0', grad_fn=<MseLossBackward0>)\n",
      "loss: tensor(0.0049, device='cuda:0', grad_fn=<MseLossBackward0>)\n",
      "loss: tensor(0.0022, device='cuda:0', grad_fn=<MseLossBackward0>)\n",
      "loss: tensor(0.0021, device='cuda:0', grad_fn=<MseLossBackward0>)\n",
      "loss: tensor(0.0024, device='cuda:0', grad_fn=<MseLossBackward0>)\n"
     ]
    },
    {
     "name": "stderr",
     "output_type": "stream",
     "text": [
      " 82%|████████▏ | 41/50 [00:21<00:04,  2.24it/s]"
     ]
    },
    {
     "name": "stdout",
     "output_type": "stream",
     "text": [
      "loss: tensor(0.0025, device='cuda:0', grad_fn=<MseLossBackward0>)\n",
      "loss: tensor(0.0070, device='cuda:0', grad_fn=<MseLossBackward0>)\n",
      "loss: tensor(0.0038, device='cuda:0', grad_fn=<MseLossBackward0>)\n",
      "epoch: 40 train_epoch_loss: 0.003868862520903349 val_epoch_loss: 0.004217573208734393\n",
      "loss: tensor(0.0041, device='cuda:0', grad_fn=<MseLossBackward0>)\n",
      "loss: tensor(0.0031, device='cuda:0', grad_fn=<MseLossBackward0>)\n",
      "loss: tensor(0.0028, device='cuda:0', grad_fn=<MseLossBackward0>)\n",
      "loss: tensor(0.0040, device='cuda:0', grad_fn=<MseLossBackward0>)\n",
      "loss: tensor(0.0050, device='cuda:0', grad_fn=<MseLossBackward0>)\n",
      "loss: tensor(0.0026, device='cuda:0', grad_fn=<MseLossBackward0>)\n",
      "loss: tensor(0.0016, device='cuda:0', grad_fn=<MseLossBackward0>)\n",
      "loss: tensor(0.0046, device='cuda:0', grad_fn=<MseLossBackward0>)\n"
     ]
    },
    {
     "name": "stderr",
     "output_type": "stream",
     "text": [
      " 84%|████████▍ | 42/50 [00:21<00:03,  2.24it/s]"
     ]
    },
    {
     "name": "stdout",
     "output_type": "stream",
     "text": [
      "loss: tensor(0.0022, device='cuda:0', grad_fn=<MseLossBackward0>)\n",
      "loss: tensor(0.0058, device='cuda:0', grad_fn=<MseLossBackward0>)\n",
      "loss: tensor(0.0031, device='cuda:0', grad_fn=<MseLossBackward0>)\n",
      "epoch: 41 train_epoch_loss: 0.0035277741580185566 val_epoch_loss: 0.003107660391833633\n",
      "loss: tensor(0.0010, device='cuda:0', grad_fn=<MseLossBackward0>)\n",
      "loss: tensor(0.0048, device='cuda:0', grad_fn=<MseLossBackward0>)\n",
      "loss: tensor(0.0038, device='cuda:0', grad_fn=<MseLossBackward0>)\n",
      "loss: tensor(0.0087, device='cuda:0', grad_fn=<MseLossBackward0>)\n",
      "loss: tensor(0.0073, device='cuda:0', grad_fn=<MseLossBackward0>)\n",
      "loss: tensor(0.0075, device='cuda:0', grad_fn=<MseLossBackward0>)\n",
      "loss: tensor(0.0024, device='cuda:0', grad_fn=<MseLossBackward0>)\n",
      "loss: tensor(0.0026, device='cuda:0', grad_fn=<MseLossBackward0>)\n"
     ]
    },
    {
     "name": "stderr",
     "output_type": "stream",
     "text": [
      " 86%|████████▌ | 43/50 [00:22<00:03,  2.23it/s]"
     ]
    },
    {
     "name": "stdout",
     "output_type": "stream",
     "text": [
      "loss: tensor(0.0031, device='cuda:0', grad_fn=<MseLossBackward0>)\n",
      "loss: tensor(0.0072, device='cuda:0', grad_fn=<MseLossBackward0>)\n",
      "loss: tensor(0.0048, device='cuda:0', grad_fn=<MseLossBackward0>)\n",
      "epoch: 42 train_epoch_loss: 0.004829489117996259 val_epoch_loss: 0.002818527224007994\n",
      "loss: tensor(0.0026, device='cuda:0', grad_fn=<MseLossBackward0>)\n",
      "loss: tensor(0.0036, device='cuda:0', grad_fn=<MseLossBackward0>)\n",
      "loss: tensor(0.0032, device='cuda:0', grad_fn=<MseLossBackward0>)\n",
      "loss: tensor(0.0053, device='cuda:0', grad_fn=<MseLossBackward0>)\n",
      "loss: tensor(0.0029, device='cuda:0', grad_fn=<MseLossBackward0>)\n",
      "loss: tensor(0.0047, device='cuda:0', grad_fn=<MseLossBackward0>)\n",
      "loss: tensor(0.0024, device='cuda:0', grad_fn=<MseLossBackward0>)\n",
      "loss: tensor(0.0030, device='cuda:0', grad_fn=<MseLossBackward0>)\n"
     ]
    },
    {
     "name": "stderr",
     "output_type": "stream",
     "text": [
      " 88%|████████▊ | 44/50 [00:22<00:02,  2.25it/s]"
     ]
    },
    {
     "name": "stdout",
     "output_type": "stream",
     "text": [
      "loss: tensor(0.0021, device='cuda:0', grad_fn=<MseLossBackward0>)\n",
      "loss: tensor(0.0022, device='cuda:0', grad_fn=<MseLossBackward0>)\n",
      "loss: tensor(0.0054, device='cuda:0', grad_fn=<MseLossBackward0>)\n",
      "epoch: 43 train_epoch_loss: 0.0034018554089760237 val_epoch_loss: 0.0034223804832436144\n",
      "loss: tensor(0.0023, device='cuda:0', grad_fn=<MseLossBackward0>)\n",
      "loss: tensor(0.0070, device='cuda:0', grad_fn=<MseLossBackward0>)\n",
      "loss: tensor(0.0040, device='cuda:0', grad_fn=<MseLossBackward0>)\n",
      "loss: tensor(0.0074, device='cuda:0', grad_fn=<MseLossBackward0>)\n",
      "loss: tensor(0.0011, device='cuda:0', grad_fn=<MseLossBackward0>)\n",
      "loss: tensor(0.0016, device='cuda:0', grad_fn=<MseLossBackward0>)\n",
      "loss: tensor(0.0070, device='cuda:0', grad_fn=<MseLossBackward0>)\n",
      "loss: tensor(0.0039, device='cuda:0', grad_fn=<MseLossBackward0>)\n"
     ]
    },
    {
     "name": "stderr",
     "output_type": "stream",
     "text": [
      " 90%|█████████ | 45/50 [00:22<00:02,  2.27it/s]"
     ]
    },
    {
     "name": "stdout",
     "output_type": "stream",
     "text": [
      "loss: tensor(0.0035, device='cuda:0', grad_fn=<MseLossBackward0>)\n",
      "loss: tensor(0.0038, device='cuda:0', grad_fn=<MseLossBackward0>)\n",
      "loss: tensor(0.0045, device='cuda:0', grad_fn=<MseLossBackward0>)\n",
      "epoch: 44 train_epoch_loss: 0.004184348127720031 val_epoch_loss: 0.0035635260865092278\n",
      "loss: tensor(0.0046, device='cuda:0', grad_fn=<MseLossBackward0>)\n",
      "loss: tensor(0.0023, device='cuda:0', grad_fn=<MseLossBackward0>)\n",
      "loss: tensor(0.0011, device='cuda:0', grad_fn=<MseLossBackward0>)\n",
      "loss: tensor(0.0057, device='cuda:0', grad_fn=<MseLossBackward0>)\n",
      "loss: tensor(0.0031, device='cuda:0', grad_fn=<MseLossBackward0>)\n",
      "loss: tensor(0.0145, device='cuda:0', grad_fn=<MseLossBackward0>)\n",
      "loss: tensor(0.0014, device='cuda:0', grad_fn=<MseLossBackward0>)\n",
      "loss: tensor(0.0060, device='cuda:0', grad_fn=<MseLossBackward0>)\n"
     ]
    },
    {
     "name": "stderr",
     "output_type": "stream",
     "text": [
      " 92%|█████████▏| 46/50 [00:23<00:01,  2.26it/s]"
     ]
    },
    {
     "name": "stdout",
     "output_type": "stream",
     "text": [
      "loss: tensor(0.0028, device='cuda:0', grad_fn=<MseLossBackward0>)\n",
      "loss: tensor(0.0064, device='cuda:0', grad_fn=<MseLossBackward0>)\n",
      "loss: tensor(0.0015, device='cuda:0', grad_fn=<MseLossBackward0>)\n",
      "epoch: 45 train_epoch_loss: 0.004484770121052861 val_epoch_loss: 0.004057943529915065\n",
      "loss: tensor(0.0045, device='cuda:0', grad_fn=<MseLossBackward0>)\n",
      "loss: tensor(0.0049, device='cuda:0', grad_fn=<MseLossBackward0>)\n",
      "loss: tensor(0.0045, device='cuda:0', grad_fn=<MseLossBackward0>)\n",
      "loss: tensor(0.0026, device='cuda:0', grad_fn=<MseLossBackward0>)\n",
      "loss: tensor(0.0025, device='cuda:0', grad_fn=<MseLossBackward0>)\n",
      "loss: tensor(0.0018, device='cuda:0', grad_fn=<MseLossBackward0>)\n",
      "loss: tensor(0.0037, device='cuda:0', grad_fn=<MseLossBackward0>)\n",
      "loss: tensor(0.0032, device='cuda:0', grad_fn=<MseLossBackward0>)\n"
     ]
    },
    {
     "name": "stderr",
     "output_type": "stream",
     "text": [
      " 94%|█████████▍| 47/50 [00:23<00:01,  2.27it/s]"
     ]
    },
    {
     "name": "stdout",
     "output_type": "stream",
     "text": [
      "loss: tensor(0.0025, device='cuda:0', grad_fn=<MseLossBackward0>)\n",
      "loss: tensor(0.0032, device='cuda:0', grad_fn=<MseLossBackward0>)\n",
      "loss: tensor(0.0025, device='cuda:0', grad_fn=<MseLossBackward0>)\n",
      "epoch: 46 train_epoch_loss: 0.0032688227101144466 val_epoch_loss: 0.0032406027312390506\n",
      "loss: tensor(0.0090, device='cuda:0', grad_fn=<MseLossBackward0>)\n",
      "loss: tensor(0.0019, device='cuda:0', grad_fn=<MseLossBackward0>)\n",
      "loss: tensor(0.0032, device='cuda:0', grad_fn=<MseLossBackward0>)\n",
      "loss: tensor(0.0038, device='cuda:0', grad_fn=<MseLossBackward0>)\n",
      "loss: tensor(0.0027, device='cuda:0', grad_fn=<MseLossBackward0>)\n",
      "loss: tensor(0.0060, device='cuda:0', grad_fn=<MseLossBackward0>)\n",
      "loss: tensor(0.0026, device='cuda:0', grad_fn=<MseLossBackward0>)\n",
      "loss: tensor(0.0048, device='cuda:0', grad_fn=<MseLossBackward0>)\n"
     ]
    },
    {
     "name": "stderr",
     "output_type": "stream",
     "text": [
      " 96%|█████████▌| 48/50 [00:24<00:00,  2.27it/s]"
     ]
    },
    {
     "name": "stdout",
     "output_type": "stream",
     "text": [
      "loss: tensor(0.0024, device='cuda:0', grad_fn=<MseLossBackward0>)\n",
      "loss: tensor(0.0053, device='cuda:0', grad_fn=<MseLossBackward0>)\n",
      "loss: tensor(0.0092, device='cuda:0', grad_fn=<MseLossBackward0>)\n",
      "epoch: 47 train_epoch_loss: 0.004632223249328407 val_epoch_loss: 0.0036864501889795065\n",
      "loss: tensor(0.0058, device='cuda:0', grad_fn=<MseLossBackward0>)\n",
      "loss: tensor(0.0024, device='cuda:0', grad_fn=<MseLossBackward0>)\n",
      "loss: tensor(0.0046, device='cuda:0', grad_fn=<MseLossBackward0>)\n",
      "loss: tensor(0.0015, device='cuda:0', grad_fn=<MseLossBackward0>)\n",
      "loss: tensor(0.0019, device='cuda:0', grad_fn=<MseLossBackward0>)\n",
      "loss: tensor(0.0060, device='cuda:0', grad_fn=<MseLossBackward0>)\n",
      "loss: tensor(0.0037, device='cuda:0', grad_fn=<MseLossBackward0>)\n",
      "loss: tensor(0.0033, device='cuda:0', grad_fn=<MseLossBackward0>)\n"
     ]
    },
    {
     "name": "stderr",
     "output_type": "stream",
     "text": [
      " 98%|█████████▊| 49/50 [00:24<00:00,  2.27it/s]"
     ]
    },
    {
     "name": "stdout",
     "output_type": "stream",
     "text": [
      "loss: tensor(0.0045, device='cuda:0', grad_fn=<MseLossBackward0>)\n",
      "loss: tensor(0.0023, device='cuda:0', grad_fn=<MseLossBackward0>)\n",
      "loss: tensor(0.0056, device='cuda:0', grad_fn=<MseLossBackward0>)\n",
      "epoch: 48 train_epoch_loss: 0.003776930272579193 val_epoch_loss: 0.002958096709335223\n",
      "loss: tensor(0.0035, device='cuda:0', grad_fn=<MseLossBackward0>)\n",
      "loss: tensor(0.0051, device='cuda:0', grad_fn=<MseLossBackward0>)\n",
      "loss: tensor(0.0044, device='cuda:0', grad_fn=<MseLossBackward0>)\n",
      "loss: tensor(0.0032, device='cuda:0', grad_fn=<MseLossBackward0>)\n",
      "loss: tensor(0.0026, device='cuda:0', grad_fn=<MseLossBackward0>)\n",
      "loss: tensor(0.0027, device='cuda:0', grad_fn=<MseLossBackward0>)\n",
      "loss: tensor(0.0030, device='cuda:0', grad_fn=<MseLossBackward0>)\n",
      "loss: tensor(0.0072, device='cuda:0', grad_fn=<MseLossBackward0>)\n",
      "loss: tensor(0.0020, device='cuda:0', grad_fn=<MseLossBackward0>)\n",
      "loss: tensor(0.0032, device='cuda:0', grad_fn=<MseLossBackward0>)\n",
      "loss: tensor(0.0022, device='cuda:0', grad_fn=<MseLossBackward0>)\n",
      "epoch: 49 train_epoch_loss: 0.003559410995380445 val_epoch_loss: 0.0021919413120485842\n",
      "best_test_loss ------------------------------------------------- 0.0021919413120485842\n"
     ]
    },
    {
     "name": "stderr",
     "output_type": "stream",
     "text": [
      "100%|██████████| 50/50 [00:25<00:00,  1.97it/s]\n"
     ]
    },
    {
     "data": {
      "image/png": "[encoded data removed]",
      "text/plain": [
       "<Figure size 1000x700 with 1 Axes>"
      ]
     },
     "metadata": {},
     "output_type": "display_data"
    }
   ],
   "source": [
    "# 用30天的数据(包括这30天所有的因子和log_ret)预测下一天的log_ret\n",
    "device = torch.device(\"cuda\" if torch.cuda.is_available() else \"cpu\")\n",
    "data = pd.read_csv(\"factors_data.csv\")  # 1 3 7 是 预测列\n",
    "print(data.columns)\n",
    "['Date', 'Close-H', 'Close-L', 'W&R', 'DMI', 'CCI', 'ROC', 'ATR', 'ADX','HT_DCPERIOD', 'ma_5', 'ma_30', 'ma_120', 'RSI', 'MACD', 'MACDsignal','OBV', 'AD', 'K', 'D', 'log_ret']\n",
    "data.dropna(axis=0, how='any')\n",
    "data_x = data[\n",
    "    ['Close-H', 'Close-L', 'W&R', 'DMI', 'CCI', 'ROC', 'ATR', 'ADX','HT_DCPERIOD', 'ma_5', 'ma_30', 'ma_120', 'RSI', 'MACD', 'MACDsignal','OBV', 'AD', 'K', 'D', 'log_ret']].values\n",
    "# ax=plt.subplots(figsize=(50,50))\n",
    "# ax=sns.heatmap(data.corr(),vmax=.1,square=True,annot=True,annot_kws={\"fontsize\":8})\n",
    "# plt.show()\n",
    "# print(len(data_y))\n",
    "# 31个数据划分为一组 用前30个预测后一个\n",
    "data_31_x = []\n",
    "data_31_y = []\n",
    "for i in range(0, len(data_x) - 30,31):\n",
    "    data_31_x.append(data_x[i:i +30])\n",
    "    data_31_y.append(data_x[i+30][-1])\n",
    "print(len(data_31_x), len(data_31_y))\n",
    "x_train, x_test, y_train, y_test = train_test_split(np.array(data_31_x), np.array(data_31_y), test_size=0.2,random_state=1,shuffle=True,)\n",
    "class DataSet(Data.Dataset):\n",
    "    def __init__(self, data_inputs, data_targets):\n",
    "        self.inputs = torch.FloatTensor(data_inputs)\n",
    "        self.label = torch.FloatTensor(data_targets)\n",
    "\n",
    "    def __getitem__(self, index):\n",
    "        return self.inputs[index], self.label[index]\n",
    "\n",
    "    def __len__(self):\n",
    "        return len(self.inputs)\n",
    "Batch_Size = 8  #\n",
    "DataSet = DataSet(np.array(x_train), list(y_train))\n",
    "train_size = int(len(x_train) * 0.7)\n",
    "test_size = len(y_train) - train_size\n",
    "train_dataset, test_dataset = torch.utils.data.random_split(DataSet, [train_size, test_size])\n",
    "TrainDataLoader = Data.DataLoader(train_dataset, batch_size=Batch_Size, shuffle=True, drop_last=True)\n",
    "TestDataLoader = Data.DataLoader(test_dataset, batch_size=Batch_Size, shuffle=True, drop_last=True)\n",
    "\n",
    "model = Transformer(n_encoder_inputs=20, n_decoder_inputs=20, Sequence_length=30).to(device)  # 3 表示Sequence_length  transformer 输入数据 序列的长度\n",
    "def test_main(model):\n",
    "    val_epoch_loss = []\n",
    "    with torch.no_grad():\n",
    "        for index, (inputs, targets) in enumerate(TestDataLoader):\n",
    "            inputs = torch.tensor(inputs).to(device)\n",
    "            targets = torch.tensor(targets).to(device)\n",
    "            inputs = inputs.float()\n",
    "            targets = targets.float()\n",
    "            tgt_in = torch.rand((Batch_Size,30,20))\n",
    "            tgt_in = tgt_in.to(device)\n",
    "            outputs = model(inputs, tgt_in)\n",
    "            # print(outputs.float(), targets.float())\n",
    "            loss = criterion(outputs.float(), targets.float())\n",
    "            val_epoch_loss.append(loss.item())\n",
    "    return np.mean(val_epoch_loss)\n",
    "\n",
    "\n",
    "epochs = 50 # 100 200\n",
    "optimizer = torch.optim.Adagrad(model.parameters(), lr=0.0001)\n",
    "criterion = torch.nn.MSELoss().to(device)\n",
    "\n",
    "val_loss = []\n",
    "train_loss = []\n",
    "best_test_loss = 10000000\n",
    "for epoch in tqdm(range(epochs)):\n",
    "    train_epoch_loss = []\n",
    "    for index, (inputs, targets) in enumerate(TrainDataLoader):\n",
    "        inputs = torch.tensor(inputs).to(device)\n",
    "        targets = torch.tensor(targets).to(device)\n",
    "        inputs = inputs.float()\n",
    "        targets = targets.float()\n",
    "        # print(\"inputs\",inputs.shape) # [batch,3，16]\n",
    "        # print(\"targets\",targets.shape) # targets torch.Size([batch])\n",
    "        tgt_in = torch.rand((Batch_Size,30,20))  # 输入数据的维度是[batch,序列长度，每个单元的维度]\n",
    "        tgt_in=tgt_in.to(device)\n",
    "        outputs = model(inputs, tgt_in)\n",
    "        # print(\"outputs.shape:\",outputs.shape) # outputs.shape [batch, 3, 1]\n",
    "        loss = criterion(outputs.float(), targets.float())\n",
    "        print(\"loss:\", loss)\n",
    "        loss.backward()\n",
    "        optimizer.step()\n",
    "        train_epoch_loss.append(loss.item())\n",
    "    train_loss.append(np.mean(train_epoch_loss))\n",
    "    val_epoch_loss = test_main(model)\n",
    "    val_loss.append(val_epoch_loss)\n",
    "    print(\"epoch:\", epoch, \"train_epoch_loss:\", np.mean(train_epoch_loss), \"val_epoch_loss:\", val_epoch_loss)\n",
    "    # 保存下来最好的模型：\n",
    "    if val_epoch_loss < best_test_loss:\n",
    "        best_test_loss = val_epoch_loss\n",
    "        best_model = model\n",
    "        print(\"best_test_loss -------------------------------------------------\", best_test_loss)\n",
    "        torch.save(best_model.state_dict(), 'mbest.pth')\n",
    "\n",
    "# 画一下loss图\n",
    "fig = plt.figure(facecolor='white', figsize=(10, 7))\n",
    "plt.xlabel('X')\n",
    "plt.ylabel('Y')\n",
    "plt.xlim(xmax=len(val_loss), xmin=0)\n",
    "plt.ylim(ymax=max(max(train_loss), max(val_loss)), ymin=0)\n",
    "# 画两条（0-9）的坐标轴并设置轴标签x，y\n",
    "x1 = [i for i in range(0, len(train_loss), 1)]  # 随机产生300个平均值为2，方差为1.2的浮点数，即第一簇点的x轴坐标\n",
    "y1 = val_loss  # 随机产生300个平均值为2，方差为1.2的浮点数，即第一簇点的y轴坐标\n",
    "x2 = [i for i in range(0, len(train_loss), 1)]\n",
    "y2 = train_loss\n",
    "colors1 = '#00CED4'  # 点的颜色\n",
    "colors2 = '#DC143C'\n",
    "area = np.pi * 4 ** 1  # 点面积\n",
    "# 画散点图\n",
    "plt.scatter(x1, y1, s=area, c=colors1, alpha=0.4, label='val_loss')\n",
    "plt.scatter(x2, y2, s=area, c=colors2, alpha=0.4, label='train_loss')\n",
    "plt.legend()\n",
    "plt.show()\n",
    "\n"
   ]
  },
  {
   "cell_type": "code",
   "execution_count": 8,
   "metadata": {},
   "outputs": [
    {
     "name": "stdout",
     "output_type": "stream",
     "text": [
      "(32,)\n",
      "(32,)\n",
      "y_pred [-0.00541032  0.00315998  0.00587908 -0.00619223 -0.00910532 -0.02101216\n",
      "  0.01894031  0.008292    0.01179767 -0.0139722  -0.00078418 -0.0049605\n",
      "  0.02485902 -0.01393912 -0.00774696  0.0012353   0.00441534  0.0165189\n",
      " -0.01857743 -0.00059653 -0.00654181  0.00305381  0.0005701   0.00065845\n",
      "  0.02355566 -0.00121153  0.026892   -0.01812699  0.00024562  0.01369867\n",
      " -0.00970253 -0.00997368]\n",
      "y_true [ 0.01704719  0.00818376 -0.01235504  0.00519171 -0.01564871  0.00387194\n",
      " -0.01954371 -0.01813259  0.01139802  0.01710685 -0.0078609   0.00417447\n",
      " -0.00934526 -0.0034552  -0.02316582  0.00935623  0.02367766 -0.02643184\n",
      " -0.01301028 -0.00390345 -0.00545225 -0.01088467  0.01954159  0.00066121\n",
      "  0.0011592  -0.02025381 -0.01592441  0.0087192   0.00867093  0.00058593\n",
      "  0.00542988 -0.02052212]\n"
     ]
    }
   ],
   "source": [
    "# 加载模型预测------\n",
    "model = Transformer(n_encoder_inputs=20, n_decoder_inputs=20, Sequence_length=30).to(device)\n",
    "model.load_state_dict(torch.load('best_Transformer_trainModel.pth'))\n",
    "model.to(device)\n",
    "model.eval()\n",
    "# 在对模型进行评估时，应该配合使用with torch.no_grad() 与 model.eval()：\n",
    "y_pred = []\n",
    "y_true = []\n",
    "with torch.no_grad():\n",
    "    with torch.no_grad():\n",
    "        val_epoch_loss = []\n",
    "        for index, (inputs, targets) in enumerate(TestDataLoader):\n",
    "            inputs = torch.tensor(inputs).to(device)\n",
    "            targets = torch.tensor(targets).to(device)\n",
    "            inputs = inputs.float()\n",
    "            targets = targets.float()\n",
    "            tgt_in = torch.rand((Batch_Size,30,20))\n",
    "            tgt_in = tgt_in.to(device)\n",
    "            outputs = model(inputs, tgt_in)\n",
    "            outputs = list(outputs.cpu().numpy().reshape([1, -1])[0])  # 转化为1行列数不指定\n",
    "            targets = list(targets.cpu().numpy().reshape([1, -1])[0])\n",
    "            y_pred.extend(outputs)\n",
    "            y_true.extend(targets)\n",
    "\n",
    "\n",
    "y_true = np.array(y_true)\n",
    "y_pred = np.array(y_pred)\n",
    "print(y_true.shape)\n",
    "print(y_pred.shape)\n",
    "# 画折线图显示----\n",
    "dataframe = pd.DataFrame({'pred': y_pred,'true': y_true})\n",
    "dataframe.to_csv(\"bijiao2.csv\", index=False, sep=',')\n",
    "\n",
    "print(\"y_pred\", y_pred)\n",
    "print(\"y_true\", y_true)"
   ]
  },
  {
   "cell_type": "code",
   "execution_count": 9,
   "metadata": {},
   "outputs": [
    {
     "data": {
      "image/png": "[encoded data removed]",
      "text/plain": [
       "<Figure size 640x480 with 1 Axes>"
      ]
     },
     "metadata": {},
     "output_type": "display_data"
    }
   ],
   "source": [
    "len_ = [i for i in range(len(y_pred[0:1000]))]\n",
    "plt.xlabel('标签', fontsize=8)\n",
    "plt.ylabel('值', fontsize=8)\n",
    "plt.plot(len_, y_true[0:1000], color=\"blue\" ,label='y_true')\n",
    "plt.plot(len_, y_pred[0:1000], color=\"yellow\", label='y_pred')\n",
    "plt.title(\"真实值(b)预测值(y)画图\")\n",
    "plt.show()"
   ]
  },
  {
   "cell_type": "code",
   "execution_count": 36,
   "metadata": {},
   "outputs": [
    {
     "name": "stdout",
     "output_type": "stream",
     "text": [
      "/home/zxy/.cache/matplotlib\n"
     ]
    }
   ],
   "source": [
    "import matplotlib as mpl\n",
    "print(mpl.get_cachedir())"
   ]
  },
  {
   "cell_type": "code",
   "execution_count": 7,
   "metadata": {},
   "outputs": [
    {
     "data": {
      "text/plain": [
       "<All keys matched successfully>"
      ]
     },
     "execution_count": 7,
     "metadata": {},
     "output_type": "execute_result"
    }
   ],
   "source": [
    "# 加载模型------\n",
    "model = Transformer(n_encoder_inputs=20, n_decoder_inputs=20, Sequence_length=30)\n",
    "model.load_state_dict(torch.load('best_Transformer_trainModel.pth'))"
   ]
  },
  {
   "cell_type": "code",
   "execution_count": 31,
   "metadata": {},
   "outputs": [
    {
     "name": "stdout",
     "output_type": "stream",
     "text": [
      "input_pos_embedding.weight                             256000\n",
      "target_pos_embedding.weight                            256000\n",
      "encoder.layers.0.self_attn.in_proj_weight              786432\n",
      "encoder.layers.0.self_attn.in_proj_bias                  1536\n",
      "encoder.layers.0.self_attn.out_proj.weight             262144\n",
      "encoder.layers.0.self_attn.out_proj.bias                  512\n",
      "encoder.layers.0.linear1.weight                       1048576\n",
      "encoder.layers.0.linear1.bias                            2048\n",
      "encoder.layers.0.linear2.weight                       1048576\n",
      "encoder.layers.0.linear2.bias                             512\n",
      "encoder.layers.0.norm1.weight                             512\n",
      "encoder.layers.0.norm1.bias                               512\n",
      "encoder.layers.0.norm2.weight                             512\n",
      "encoder.layers.0.norm2.bias                               512\n",
      "encoder.layers.1.self_attn.in_proj_weight              786432\n",
      "encoder.layers.1.self_attn.in_proj_bias                  1536\n",
      "encoder.layers.1.self_attn.out_proj.weight             262144\n",
      "encoder.layers.1.self_attn.out_proj.bias                  512\n",
      "encoder.layers.1.linear1.weight                       1048576\n",
      "encoder.layers.1.linear1.bias                            2048\n",
      "encoder.layers.1.linear2.weight                       1048576\n",
      "encoder.layers.1.linear2.bias                             512\n",
      "encoder.layers.1.norm1.weight                             512\n",
      "encoder.layers.1.norm1.bias                               512\n",
      "encoder.layers.1.norm2.weight                             512\n",
      "encoder.layers.1.norm2.bias                               512\n",
      "decoder.layers.0.self_attn.in_proj_weight              786432\n",
      "decoder.layers.0.self_attn.in_proj_bias                  1536\n",
      "decoder.layers.0.self_attn.out_proj.weight             262144\n",
      "decoder.layers.0.self_attn.out_proj.bias                  512\n",
      "decoder.layers.0.multihead_attn.in_proj_weight         786432\n",
      "decoder.layers.0.multihead_attn.in_proj_bias             1536\n",
      "decoder.layers.0.multihead_attn.out_proj.weight        262144\n",
      "decoder.layers.0.multihead_attn.out_proj.bias             512\n",
      "decoder.layers.0.linear1.weight                       1048576\n",
      "decoder.layers.0.linear1.bias                            2048\n",
      "decoder.layers.0.linear2.weight                       1048576\n",
      "decoder.layers.0.linear2.bias                             512\n",
      "decoder.layers.0.norm1.weight                             512\n",
      "decoder.layers.0.norm1.bias                               512\n",
      "decoder.layers.0.norm2.weight                             512\n",
      "decoder.layers.0.norm2.bias                               512\n",
      "decoder.layers.0.norm3.weight                             512\n",
      "decoder.layers.0.norm3.bias                               512\n",
      "decoder.layers.1.self_attn.in_proj_weight              786432\n",
      "decoder.layers.1.self_attn.in_proj_bias                  1536\n",
      "decoder.layers.1.self_attn.out_proj.weight             262144\n",
      "decoder.layers.1.self_attn.out_proj.bias                  512\n",
      "decoder.layers.1.multihead_attn.in_proj_weight         786432\n",
      "decoder.layers.1.multihead_attn.in_proj_bias             1536\n",
      "decoder.layers.1.multihead_attn.out_proj.weight        262144\n",
      "decoder.layers.1.multihead_attn.out_proj.bias             512\n",
      "decoder.layers.1.linear1.weight                       1048576\n",
      "decoder.layers.1.linear1.bias                            2048\n",
      "decoder.layers.1.linear2.weight                       1048576\n",
      "decoder.layers.1.linear2.bias                             512\n",
      "decoder.layers.1.norm1.weight                             512\n",
      "decoder.layers.1.norm1.bias                               512\n",
      "decoder.layers.1.norm2.weight                             512\n",
      "decoder.layers.1.norm2.bias                               512\n",
      "decoder.layers.1.norm3.weight                             512\n",
      "decoder.layers.1.norm3.bias                               512\n",
      "decoder.layers.2.self_attn.in_proj_weight              786432\n",
      "decoder.layers.2.self_attn.in_proj_bias                  1536\n",
      "decoder.layers.2.self_attn.out_proj.weight             262144\n",
      "decoder.layers.2.self_attn.out_proj.bias                  512\n",
      "decoder.layers.2.multihead_attn.in_proj_weight         786432\n",
      "decoder.layers.2.multihead_attn.in_proj_bias             1536\n",
      "decoder.layers.2.multihead_attn.out_proj.weight        262144\n",
      "decoder.layers.2.multihead_attn.out_proj.bias             512\n",
      "decoder.layers.2.linear1.weight                       1048576\n",
      "decoder.layers.2.linear1.bias                            2048\n",
      "decoder.layers.2.linear2.weight                       1048576\n",
      "decoder.layers.2.linear2.bias                             512\n",
      "decoder.layers.2.norm1.weight                             512\n",
      "decoder.layers.2.norm1.bias                               512\n",
      "decoder.layers.2.norm2.weight                             512\n",
      "decoder.layers.2.norm2.bias                               512\n",
      "decoder.layers.2.norm3.weight                             512\n",
      "decoder.layers.2.norm3.bias                               512\n",
      "decoder.layers.3.self_attn.in_proj_weight              786432\n",
      "decoder.layers.3.self_attn.in_proj_bias                  1536\n",
      "decoder.layers.3.self_attn.out_proj.weight             262144\n",
      "decoder.layers.3.self_attn.out_proj.bias                  512\n",
      "decoder.layers.3.multihead_attn.in_proj_weight         786432\n",
      "decoder.layers.3.multihead_attn.in_proj_bias             1536\n",
      "decoder.layers.3.multihead_attn.out_proj.weight        262144\n",
      "decoder.layers.3.multihead_attn.out_proj.bias             512\n",
      "decoder.layers.3.linear1.weight                       1048576\n",
      "decoder.layers.3.linear1.bias                            2048\n",
      "decoder.layers.3.linear2.weight                       1048576\n",
      "decoder.layers.3.linear2.bias                             512\n",
      "decoder.layers.3.norm1.weight                             512\n",
      "decoder.layers.3.norm1.bias                               512\n",
      "decoder.layers.3.norm2.weight                             512\n",
      "decoder.layers.3.norm2.bias                               512\n",
      "decoder.layers.3.norm3.weight                             512\n",
      "decoder.layers.3.norm3.bias                               512\n",
      "input_projection.weight                                 10240\n",
      "input_projection.bias                                     512\n",
      "output_projection.weight                                10240\n",
      "output_projection.bias                                    512\n",
      "linear.weight                                             512\n",
      "linear.bias                                                 1\n",
      "ziji_add_linear.weight                                     30\n",
      "ziji_add_linear.bias                                        1\n",
      "106\n",
      "23654944\n"
     ]
    }
   ],
   "source": [
    "sum_name=0\n",
    "sum_para=0\n",
    "for name,para in model.named_parameters():\n",
    "    print(f'{name:50} {para.numel():10}')\n",
    "    sum_name+=1\n",
    "    sum_para+=para.numel()\n",
    "    # if name=='ziji_add_linear.weight':\n",
    "    #     print(para)\n",
    "    #     print(len(para))\n",
    "    #     print(para.numel())\n",
    "print(sum_name)\n",
    "print(sum_para)"
   ]
  }
 ],
 "metadata": {
  "kernelspec": {
   "display_name": "ssfn",
   "language": "python",
   "name": "python3"
  },
  "language_info": {
   "codemirror_mode": {
    "name": "ipython",
    "version": 3
   },
   "file_extension": ".py",
   "mimetype": "text/x-python",
   "name": "python",
   "nbconvert_exporter": "python",
   "pygments_lexer": "ipython3",
   "version": "3.10.0"
  },
  "orig_nbformat": 4
 },
 "nbformat": 4,
 "nbformat_minor": 2
}
