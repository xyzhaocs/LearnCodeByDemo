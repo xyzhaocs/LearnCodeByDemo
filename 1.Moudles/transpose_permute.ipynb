{
 "cells": [
  {
   "cell_type": "markdown",
   "metadata": {},
   "source": [
    "[PyTorch 两大转置函数 transpose() 和 permute(), 以及RuntimeError: invalid argument 2: view size is not compati](https://blog.csdn.net/xinjieyuan/article/details/105232802)\n",
    "\n"
   ]
  },
  {
   "cell_type": "code",
   "execution_count": null,
   "metadata": {},
   "outputs": [],
   "source": [
    "import torch\n",
    "x = torch.randn(2,3)      # 'x.shape  →  [2,3]'\n",
    "y = torch.randn(2,3,4)   #'y.shape  →  [2,3,4]'"
   ]
  },
  {
   "cell_type": "markdown",
   "metadata": {},
   "source": [
    "##### 相同点\n",
    "1. 都是返回转置后矩阵。\n",
    "2. 都可以操作高纬矩阵，permute在高维的功能性更强。\n",
    "\n",
    "##### 不同点\n",
    "1. 合法性不同\n",
    "\n",
    "    `torch.transpose(x)`合法， `x.transpose()`合法。\n",
    "\n",
    "    `tensor.permute(x)`不合法，`x.permute()`合法。\n",
    "    \n",
    "2. 操作dim不同：\n",
    "    transpose()只能一次操作两个维度；\n",
    "    permute()可以一次操作多维数据，且必须传入所有维度数，因为permute()的参数是int*。\n",
    "\n",
    "3. transpose()中的dim没有数的大小区分；permute()中的dim有数的大小区分\n",
    "\n",
    "4. 注意只有transpose()有后缀格式：transpose_()：后缀函数的作用是简化如下代码：\n",
    "\n",
    "    ```python\n",
    "    x = x.transpose(0,1)\n",
    "    等价于\n",
    "    x.transpose_()\n",
    "    # 相当于x = x + 1 简化为 x+=1\n",
    "    ```\n",
    "5. 关于连续contiguous()\n",
    "经常有人用`view()`函数改变通过转置后的数据结构，导致报错\n",
    "`RuntimeError: invalid argument 2: view size is not compatible with input tensor's....`\n",
    "\n",
    "这是因为`tensor`经过转置后数据的内存地址不连续导致的,也就是`tensor.is_contiguous()==False`\n",
    "这时候`reshape()`可以改变该`tensor`结构，但是`view()`不可以，具体不同可以看[`view`和`reshape`的区别](https://blog.csdn.net/xinjieyuan/article/details/107966712)"
   ]
  },
  {
   "cell_type": "markdown",
   "metadata": {},
   "source": [
    "## transpose()\n",
    "    torch.transpose(input, dim0, dim1, out=None) → Tensor\n",
    "函数返回输入矩阵input的转置。交换维度dim0和dim1\n",
    "参数:\n",
    "- input (Tensor) – 输入张量，必填\n",
    "- dim0 (int) – 转置的第一维，默认0，可选\n",
    "- dim1 (int) – 转置的第二维，默认1，可选"
   ]
  },
  {
   "cell_type": "code",
   "execution_count": 7,
   "metadata": {},
   "outputs": [
    {
     "name": "stdout",
     "output_type": "stream",
     "text": [
      "torch.Size([3, 2, 4])\n",
      "torch.Size([3, 2, 4])\n",
      "torch.Size([2, 4, 3])\n"
     ]
    }
   ],
   "source": [
    "a=y.transpose(0,1)\n",
    "print(a.shape)\n",
    "\n",
    "a=y.transpose(1,0)\n",
    "print(a.shape)\n",
    "\n",
    "a=y.transpose(1,2)\n",
    "print(a.shape)"
   ]
  },
  {
   "cell_type": "markdown",
   "metadata": {},
   "source": [
    "## permute()\n",
    "    permute(dims) → Tensor\n",
    "将tensor的维度换位。\n",
    "参数：\n",
    "- dims (int…*)-换位顺序，必填"
   ]
  },
  {
   "cell_type": "code",
   "execution_count": 8,
   "metadata": {},
   "outputs": [
    {
     "name": "stdout",
     "output_type": "stream",
     "text": [
      "torch.Size([3, 2, 4])\n"
     ]
    }
   ],
   "source": [
    "a=y.permute(1,0,2)\n",
    "print(a.shape)"
   ]
  }
 ],
 "metadata": {
  "kernelspec": {
   "display_name": "rcv",
   "language": "python",
   "name": "python3"
  },
  "language_info": {
   "codemirror_mode": {
    "name": "ipython",
    "version": 3
   },
   "file_extension": ".py",
   "mimetype": "text/x-python",
   "name": "python",
   "nbconvert_exporter": "python",
   "pygments_lexer": "ipython3",
   "version": "3.9.13"
  }
 },
 "nbformat": 4,
 "nbformat_minor": 2
}
