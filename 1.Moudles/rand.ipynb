{
 "cells": [
  {
   "cell_type": "code",
   "execution_count": 39,
   "metadata": {},
   "outputs": [
    {
     "name": "stdout",
     "output_type": "stream",
     "text": [
      "tensor(0.2243) tensor(0.9407)\n",
      "[[ 0.16841277  0.7315615   0.04677292]\n",
      " [-1.4771177   0.47612885  0.01772557]\n",
      " [ 1.0373527  -0.17775667  1.557288  ]\n",
      " [ 0.39485455 -1.505543    1.421772  ]]\n",
      "float32\n",
      "0.22428763 0.86231774\n",
      "1.557288 -1.505543\n"
     ]
    }
   ],
   "source": [
    "import torch\n",
    "import numpy as np\n",
    "import seaborn as sns\n",
    "import matplotlib.pyplot as plt\n",
    "random_tensor = torch.randn(4,3)\n",
    "print(torch.mean(random_tensor),torch.var(random_tensor))\n",
    "random_tensor=random_tensor.squeeze().cpu().numpy()\n",
    "print(random_tensor)\n",
    "print(random_tensor.dtype)\n",
    "print(np.mean(random_tensor),np.var(random_tensor))\n",
    "# sns.histplot(random_tensor, kde=True, color=\"blue\", label='Sample Data')\n",
    "print(np.max(random_tensor),np.min(random_tensor))\n"
   ]
  },
  {
   "cell_type": "code",
   "execution_count": 42,
   "metadata": {},
   "outputs": [
    {
     "name": "stdout",
     "output_type": "stream",
     "text": [
      "tensor(-0.0542) tensor(0.8905)\n",
      "tensor([[ 0.4011, -0.3874, -1.7251],\n",
      "        [ 0.7053, -1.0921,  0.1786],\n",
      "        [ 0.8621,  0.9434,  1.1410],\n",
      "        [-0.3642, -1.3244,  0.0118]])\n",
      "tensor([[ 1.6043, -1.8606, -0.3937]])\n"
     ]
    }
   ],
   "source": [
    "import torch\n",
    "import numpy as np\n",
    "random_tensor = torch.randn(4,3)\n",
    "print(torch.mean(random_tensor),torch.var(random_tensor))\n",
    "random_tensor=random_tensor.squeeze()\n",
    "print(random_tensor)\n",
    "print(torch.sum(random_tensor, dim=0, keepdim=True))\n"
   ]
  }
 ],
 "metadata": {
  "kernelspec": {
   "display_name": "ssfn",
   "language": "python",
   "name": "python3"
  },
  "language_info": {
   "codemirror_mode": {
    "name": "ipython",
    "version": 3
   },
   "file_extension": ".py",
   "mimetype": "text/x-python",
   "name": "python",
   "nbconvert_exporter": "python",
   "pygments_lexer": "ipython3",
   "version": "3.10.0"
  }
 },
 "nbformat": 4,
 "nbformat_minor": 2
}
