{
 "cells": [
  {
   "cell_type": "code",
   "execution_count": 6,
   "metadata": {},
   "outputs": [
    {
     "name": "stdout",
     "output_type": "stream",
     "text": [
      "children module: layer1\n",
      "++++++++++++++++++++++++++++++\n",
      "children module: layer2\n",
      "++++++++++++++++++++++++++++++\n",
      "modules: \n",
      "modules: layer1\n",
      "modules: layer1.0\n",
      "modules: layer1.1\n",
      "modules: layer1.2\n",
      "modules: layer2\n",
      "modules: layer2.0\n"
     ]
    }
   ],
   "source": [
    "import torch\n",
    "import torch.nn as nn\n",
    " \n",
    "class TestModule(nn.Module):\n",
    "    def __init__(self):\n",
    "        super(TestModule,self).__init__()\n",
    "        self.layer1 = nn.Sequential(\n",
    "            nn.Conv2d(16,32,3,1),\n",
    "            nn.BatchNorm2d(32),\n",
    "            nn.ReLU(inplace=True)\n",
    "        )\n",
    "        self.layer2 = nn.Sequential(\n",
    "            nn.Linear(32,10)\n",
    "        )\n",
    " \n",
    "    def forward(self,x):\n",
    "        x = self.layer1(x)\n",
    "        x = self.layer2(x)\n",
    " \n",
    "model = TestModule()\n",
    " \n",
    "for name, module in model.named_children():\n",
    "    print('children module:', name)\n",
    "    if isinstance(module, nn.Sequential):\n",
    "        print('+'*30)\n",
    " \n",
    "for name, module in model.named_modules():\n",
    "    print('modules:', name)"
   ]
  }
 ],
 "metadata": {
  "kernelspec": {
   "display_name": "ssfn",
   "language": "python",
   "name": "python3"
  },
  "language_info": {
   "codemirror_mode": {
    "name": "ipython",
    "version": 3
   },
   "file_extension": ".py",
   "mimetype": "text/x-python",
   "name": "python",
   "nbconvert_exporter": "python",
   "pygments_lexer": "ipython3",
   "version": "3.10.0"
  }
 },
 "nbformat": 4,
 "nbformat_minor": 2
}
