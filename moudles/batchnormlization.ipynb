{
 "cells": [
  {
   "cell_type": "markdown",
   "metadata": {},
   "source": [
    "在卷积神经网络的卷积层之后总会添加BatchNorm2d进行数据的归一化处理，这使得数据在进行Relu之前不会因为数据过大而导致网络性能的不稳定，BatchNorm2d()函数数学原理如下：\n",
    "\n",
    "$\\mathrm{y}=\\frac{x-mean(x)}{\\sqrt{Var(x)}+eps}*gamma+beta$\n",
    "\n",
    "[1_网络搭建/3_BatchNorm](https://enzo-miman.github.io/#/1_%E7%BD%91%E7%BB%9C%E6%90%AD%E5%BB%BA/3_BatchNorm)\n",
    "\n",
    "[Bilibili](https://www.bilibili.com/video/BV11s4y1c7pg/?spm_id_from=333.788)\n",
    "\n",
    "[Batch Norm详解之原理及为什么神经网络需要它](https://zhuanlan.zhihu.com/p/441573901)\n",
    "\n",
    "[【基础算法】六问透彻理解BN(Batch Normalization）](https://zhuanlan.zhihu.com/p/93643523)\n",
    "\n",
    "\n",
    "![cal_pic](https://p.ipic.vip/pn83n9.png)"
   ]
  },
  {
   "cell_type": "code",
   "execution_count": 35,
   "metadata": {},
   "outputs": [
    {
     "name": "stdout",
     "output_type": "stream",
     "text": [
      "statistic_mean :  [0.014776679358404921, 0.05635309876238154]\n",
      "statistic_var :  [0.93756777599325, 0.9465390281782048]\n",
      "bn.running_mean :  tensor([0.0148, 0.0564])\n",
      "bn.running_var :  tensor([0.9376, 0.9465])\n",
      "Parameter containing:\n",
      "tensor([1., 1.], requires_grad=True)\n",
      "Parameter containing:\n",
      "tensor([0., 0.], requires_grad=True)\n"
     ]
    }
   ],
   "source": [
    "import numpy as np\n",
    "import torch.nn as nn\n",
    "import torch\n",
    "\n",
    "def batch_norm(feature, statistic_mean, statistic_var):\n",
    "    feature_shape = feature.shape\n",
    "    for i in range(feature_shape[1]):\n",
    "        channel = feature[:, i, :, :]\n",
    "        mean = channel.mean()   # 均值\n",
    "        std_1 = channel.std()   # 总体标准差\n",
    "        std_t2 = channel.std(ddof=1)  # 样本标准差\n",
    "        # 对channel中的数据进行归一化\n",
    "        feature[:, i, :, :] = (channel - mean) / np.sqrt(std_1 ** 2 + 1e-5)\n",
    "        # 更新统计均值 和 方差\n",
    "        statistic_mean[i] = statistic_mean[i] * 0.9 + mean * 0.1\n",
    "        statistic_var[i] = statistic_var[i] * 0.9 + (std_t2 ** 2) * 0.1\n",
    "\n",
    "    # print(feature)\n",
    "    print('statistic_mean : ', statistic_mean)\n",
    "    print('statistic_var : ', statistic_var)\n",
    "\n",
    "feature_array = np.random.randn(2, 2, 2, 2)\n",
    "feature_tensor = torch.tensor(feature_array.copy(), dtype=torch.float32)\n",
    "\n",
    "# 初始化统计均值和方差\n",
    "statistic_mean = [0.0, 0.0]\n",
    "statistic_var = [1.0, 1.0]\n",
    "\n",
    "# 手动计算 batch normalization 结果，打印统计均值和方差\n",
    "batch_norm(feature_array, statistic_mean, statistic_var)\n",
    "\n",
    "# 调用 torch.nn.BatchNorm2d\n",
    "bn = nn.BatchNorm2d(2, eps=1e-5)\n",
    "\n",
    "output = bn(feature_tensor)\n",
    "\n",
    "# print(output)\n",
    "print('bn.running_mean : ', bn.running_mean)\n",
    "print('bn.running_var : ', bn.running_var)\n",
    "print(bn.weight)\n",
    "print(bn.bias)"
   ]
  },
  {
   "cell_type": "code",
   "execution_count": 17,
   "metadata": {},
   "outputs": [
    {
     "name": "stdout",
     "output_type": "stream",
     "text": [
      "[[[-0.59243467  0.93604603]\n",
      "  [ 0.88346365  0.35842368]]\n",
      "\n",
      " [[ 0.8117685  -2.04183014]\n",
      "  [ 0.51963757 -0.87507462]]]\n",
      "2.7755575615628914e-17\n",
      "0.9999971117586312\n",
      "1.069041879989797\n"
     ]
    }
   ],
   "source": [
    "feature=feature_array\n",
    "channel = feature[:, 0, :, :]\n",
    "print(channel.view())\n",
    "mean = channel.mean()   # 均值\n",
    "std_1 = channel.std()   # 总体标准差\n",
    "std_t2 = channel.std(ddof=1)  # 样本标准差\n",
    "print(mean)\n",
    "print(std_1)\n",
    "print(std_t2)"
   ]
  },
  {
   "cell_type": "code",
   "execution_count": 27,
   "metadata": {},
   "outputs": [
    {
     "name": "stdout",
     "output_type": "stream",
     "text": [
      "tensor([[[[-1.5798, -2.5201,  0.3904,  1.5037],\n",
      "          [ 0.2580,  0.3442,  1.2225,  1.0226],\n",
      "          [-0.4528, -0.3625,  1.8377, -0.0065]],\n",
      "\n",
      "         [[ 1.2658, -0.5274, -1.7758, -1.0991],\n",
      "          [ 0.6457,  1.5849,  0.0869, -0.3118],\n",
      "          [ 0.3529, -0.3111,  0.2038,  1.2938]]]])\n",
      "Parameter containing:\n",
      "tensor([1., 1.], requires_grad=True)\n",
      "Parameter containing:\n",
      "tensor([0., 0.], requires_grad=True)\n",
      "tensor([[[[-1.4238, -2.2031,  0.2091,  1.1317],\n",
      "          [ 0.0994,  0.1708,  0.8987,  0.7331],\n",
      "          [-0.4897, -0.4149,  1.4086, -0.1199]],\n",
      "\n",
      "         [[ 1.1970, -0.6720, -1.9732, -1.2679],\n",
      "          [ 0.5507,  1.5295, -0.0318, -0.4473],\n",
      "          [ 0.2454, -0.4466,  0.0901,  1.2261]]]],\n",
      "       grad_fn=<NativeBatchNormBackward0>)\n",
      "torch.Size([1, 2, 3, 4])\n"
     ]
    }
   ],
   "source": [
    "import torch\n",
    "import torch.nn as nn\n",
    "#num_features - num_features from an expected input of size:batch_size*num_features*height*width\n",
    "#eps:default:1e-5 (公式中为数值稳定性加到分母上的值)\n",
    "#momentum:动量参数，用于running_mean and running_var计算的值，default：0.1\n",
    "m=nn.BatchNorm2d(2,affine=True) #affine参数设为True表示weight和bias将被使用\n",
    "input=torch.randn(1,2,3,4)\n",
    "output=m(input)\n",
    " \n",
    "print(input)\n",
    "print(m.weight)\n",
    "print(m.bias)\n",
    "print(output)\n",
    "print(output.size())"
   ]
  },
  {
   "cell_type": "code",
   "execution_count": 42,
   "metadata": {},
   "outputs": [
    {
     "name": "stdout",
     "output_type": "stream",
     "text": [
      "True\n",
      "True\n"
     ]
    }
   ],
   "source": [
    "print(isinstance(m,nn.BatchNorm2d))\n",
    "print(hasattr(m,'weight'))\n",
    "# for name , param in m.named_parameters():\n",
    "#     print(name,param)\n",
    "# dir(bn)"
   ]
  },
  {
   "cell_type": "code",
   "execution_count": 21,
   "metadata": {},
   "outputs": [],
   "source": [
    "import math"
   ]
  },
  {
   "cell_type": "code",
   "execution_count": 24,
   "metadata": {},
   "outputs": [
    {
     "data": {
      "text/plain": [
       "-4.440892098500626e-16"
      ]
     },
     "execution_count": 24,
     "metadata": {},
     "output_type": "execute_result"
    }
   ],
   "source": [
    "0.9999971117586312*math.sqrt(8)-1.069041879989797*math.sqrt(7)"
   ]
  }
 ],
 "metadata": {
  "kernelspec": {
   "display_name": "rcv",
   "language": "python",
   "name": "python3"
  },
  "language_info": {
   "codemirror_mode": {
    "name": "ipython",
    "version": 3
   },
   "file_extension": ".py",
   "mimetype": "text/x-python",
   "name": "python",
   "nbconvert_exporter": "python",
   "pygments_lexer": "ipython3",
   "version": "3.9.13"
  }
 },
 "nbformat": 4,
 "nbformat_minor": 2
}
