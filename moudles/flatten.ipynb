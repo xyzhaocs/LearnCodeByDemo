{
 "cells": [
  {
   "cell_type": "markdown",
   "metadata": {},
   "source": [
    "[flatten()参数详解](https://blog.csdn.net/kuan__/article/details/116987162)\n",
    "\n",
    "1. flatten()是对多维数据的降维函数。\n",
    "2. flatten(),默认缺省参数为0，也就是说flatten()和flatte(0)效果一样。\n",
    "3. python里的flatten(dim)表示，从第dim个维度开始展开，将后面的维度转化为一维.也就是说，只保留dim之前的维度，其他维度的数据全都挤在dim这一维。\n",
    "4. 比如一个数据的维度是($S_0$ , $S_1$ ,$S_2$......... ,$S_n$ ), flatten(m)后的数据为($S_0$ , $S_1$ ,$S_2$，...，$S_{m-2}$，$S_{m-1}$，$S_{m}$∗$S_{m+1}$∗$S_{m+2}$∗...∗$S_n$)"
   ]
  },
  {
   "cell_type": "code",
   "execution_count": 3,
   "metadata": {},
   "outputs": [
    {
     "name": "stdout",
     "output_type": "stream",
     "text": [
      "tensor([[[0.4000, 0.5298, 0.0011, 0.0597],\n",
      "         [0.5095, 0.1793, 0.3801, 0.7847],\n",
      "         [0.4083, 0.7477, 0.8638, 0.0635]],\n",
      "\n",
      "        [[0.8924, 0.6704, 0.0806, 0.0504],\n",
      "         [0.7574, 0.3987, 0.1275, 0.1325],\n",
      "         [0.4923, 0.6514, 0.9092, 0.6790]]])\n",
      "tensor([0.4000, 0.5298, 0.0011, 0.0597, 0.5095, 0.1793, 0.3801, 0.7847, 0.4083,\n",
      "        0.7477, 0.8638, 0.0635, 0.8924, 0.6704, 0.0806, 0.0504, 0.7574, 0.3987,\n",
      "        0.1275, 0.1325, 0.4923, 0.6514, 0.9092, 0.6790])\n",
      "tensor([[0.4000, 0.5298, 0.0011, 0.0597, 0.5095, 0.1793, 0.3801, 0.7847, 0.4083,\n",
      "         0.7477, 0.8638, 0.0635],\n",
      "        [0.8924, 0.6704, 0.0806, 0.0504, 0.7574, 0.3987, 0.1275, 0.1325, 0.4923,\n",
      "         0.6514, 0.9092, 0.6790]])\n"
     ]
    }
   ],
   "source": [
    "import torch\n",
    "a = torch.rand(2,3,4)\n",
    "print(a)\n",
    "\n",
    "b=a.flatten()\n",
    "print(b)\n",
    "\n",
    "c=a.flatten(1)\n",
    "print(c)"
   ]
  }
 ],
 "metadata": {
  "kernelspec": {
   "display_name": "rcv",
   "language": "python",
   "name": "python3"
  },
  "language_info": {
   "codemirror_mode": {
    "name": "ipython",
    "version": 3
   },
   "file_extension": ".py",
   "mimetype": "text/x-python",
   "name": "python",
   "nbconvert_exporter": "python",
   "pygments_lexer": "ipython3",
   "version": "3.9.13"
  }
 },
 "nbformat": 4,
 "nbformat_minor": 2
}
