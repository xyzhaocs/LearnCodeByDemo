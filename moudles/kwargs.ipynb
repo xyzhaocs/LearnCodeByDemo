{
 "cells": [
  {
   "cell_type": "code",
   "execution_count": 6,
   "metadata": {},
   "outputs": [
    {
     "name": "stdout",
     "output_type": "stream",
     "text": [
      "2\n"
     ]
    }
   ],
   "source": [
    "def KDCKA( **kwargs):\n",
    "    # 函数的其他代码...\n",
    "    epoch = kwargs.get('epoch', None)  # 从 kwargs 中获取 epoch，如果不存在则返回 None\n",
    "    # 使用 epoch 做一些操作...\n",
    "    print(epoch)\n",
    "    \n",
    "KDCKA(epoch=2)"
   ]
  }
 ],
 "metadata": {
  "kernelspec": {
   "display_name": "ssfn",
   "language": "python",
   "name": "python3"
  },
  "language_info": {
   "codemirror_mode": {
    "name": "ipython",
    "version": 3
   },
   "file_extension": ".py",
   "mimetype": "text/x-python",
   "name": "python",
   "nbconvert_exporter": "python",
   "pygments_lexer": "ipython3",
   "version": "3.10.0"
  }
 },
 "nbformat": 4,
 "nbformat_minor": 2
}
