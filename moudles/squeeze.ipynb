{
 "cells": [
  {
   "cell_type": "markdown",
   "metadata": {},
   "source": [
    "## [彻底理解 Pytorch 中的 squeeze() 和 unsqueeze()函数](https://zhuanlan.zhihu.com/p/368920094)"
   ]
  },
  {
   "cell_type": "code",
   "execution_count": 1,
   "metadata": {},
   "outputs": [],
   "source": [
    "import torch"
   ]
  },
  {
   "cell_type": "markdown",
   "metadata": {},
   "source": [
    "## torch.squeeze(A，N)\n",
    "\n",
    "torch.unsqueeze()函数的作用减少数组A指定位置N的维度，如果不指定位置参数N，如果数组A的维度为（1，1，3）那么执行 torch.squeeze(A，1) 后A的维度变为 （1，3），中间的维度被删除\n",
    "\n",
    "注：\n",
    "\n",
    "1. 如果指定的维度大于1，那么将操作无效\n",
    "\n",
    "2. 如果不指定维度N，那么将删除所有维度为1的维度"
   ]
  },
  {
   "cell_type": "code",
   "execution_count": 21,
   "metadata": {},
   "outputs": [
    {
     "name": "stdout",
     "output_type": "stream",
     "text": [
      "torch.Size([2, 1, 3, 1])\n",
      "torch.Size([2, 3])\n",
      "torch.Size([2, 1, 3])\n",
      "torch.Size([2, 1, 3, 1])\n"
     ]
    }
   ],
   "source": [
    "a=torch.arange(0,6).view(2,1,3,1)\n",
    "print(a.shape)\n",
    "b=a.squeeze()\n",
    "print(b.shape)\n",
    "c=a.squeeze(3)\n",
    "print(c.shape)\n",
    "d=a.squeeze(0)  #无效\n",
    "print(d.shape)\n"
   ]
  },
  {
   "cell_type": "markdown",
   "metadata": {},
   "source": [
    "## torch.unsqueeze(A，N)\n",
    "torch.unsqueeze()函数的作用增加数组A指定位置N的维度，例如两行三列的数组A维度为(2，3)，那么这个数组就有三个位置可以增加维度，分别是（ [位置0] 2，[位置1] 3 [位置2] ）或者是 （ [位置-3] 2，[位置-2] 3 [位置-1] ），如果执行 torch.unsqueeze(A，1)，数据的维度就变为了 （2，1，3）"
   ]
  },
  {
   "cell_type": "code",
   "execution_count": 18,
   "metadata": {},
   "outputs": [
    {
     "name": "stdout",
     "output_type": "stream",
     "text": [
      "torch.Size([1, 3])\n",
      "torch.Size([1, 1, 3])\n",
      "torch.Size([1, 1, 3])\n",
      "torch.Size([1, 3, 1])\n"
     ]
    }
   ],
   "source": [
    "a=torch.randn(1,3)\n",
    "print(a.shape)\n",
    "b=a.unsqueeze(0)\n",
    "print(b.shape)\n",
    "c=torch.unsqueeze(a,1)\n",
    "print(c.shape)\n",
    "d=a.unsqueeze(2)\n",
    "print(d.shape)"
   ]
  }
 ],
 "metadata": {
  "kernelspec": {
   "display_name": "rcv",
   "language": "python",
   "name": "python3"
  },
  "language_info": {
   "codemirror_mode": {
    "name": "ipython",
    "version": 3
   },
   "file_extension": ".py",
   "mimetype": "text/x-python",
   "name": "python",
   "nbconvert_exporter": "python",
   "pygments_lexer": "ipython3",
   "version": "3.9.13"
  }
 },
 "nbformat": 4,
 "nbformat_minor": 2
}
