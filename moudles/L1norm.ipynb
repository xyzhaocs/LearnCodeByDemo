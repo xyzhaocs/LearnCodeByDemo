{
 "cells": [
  {
   "cell_type": "code",
   "execution_count": null,
   "metadata": {},
   "outputs": [],
   "source": [
    "import torch\n",
    "import torch.nn as nn\n",
    "\n",
    "class SimpleModel(nn.Module):\n",
    "    def __init__(self):\n",
    "        super(SimpleModel, self).__init__()\n",
    "        self.fc = nn.Linear(10, 5)\n",
    "\n",
    "    def forward(self, x):\n",
    "        x = self.fc(x)\n",
    "        return x\n",
    "\n",
    "# 创建模型和随机输入\n",
    "model = SimpleModel()\n",
    "input_data = torch.randn(1,10)\n",
    "\n",
    "# 前向传播\n",
    "output = model(input_data)\n",
    "\n",
    "print(\"Gradient after pruning:\")\n",
    "print(model.fc.weight.grad.data)\n",
    "# 反向传播，计算梯度\n",
    "loss = torch.sum(output)\n",
    "loss.backward()\n",
    "\n",
    "# 对梯度进行结构化剪枝\n",
    "prune_idx = [1]  # Batch Normalization 层的索引\n",
    "s = 1.  # 超参数\n",
    "for idx in prune_idx:\n",
    "    bn_module = model._modules['fc']\n",
    "    bn_module.weight.grad.data.add_(s * torch.sign(bn_module.weight.data))\n",
    "\n",
    "# 使用梯度下降更新模型参数\n",
    "optimizer = torch.optim.SGD(model.parameters(), lr=0.01)\n",
    "optimizer.step()\n",
    "\n",
    "# 输出剪枝后的权重和梯度\n",
    "print(\"Weight after pruning:\")\n",
    "print(model.fc.weight.data)\n",
    "print(\"Gradient after pruning:\")\n",
    "print(model.fc.weight.grad.data)\n"
   ]
  }
 ],
 "metadata": {
  "kernelspec": {
   "display_name": "ssfn",
   "language": "python",
   "name": "python3"
  },
  "language_info": {
   "codemirror_mode": {
    "name": "ipython",
    "version": 3
   },
   "file_extension": ".py",
   "mimetype": "text/x-python",
   "name": "python",
   "nbconvert_exporter": "python",
   "pygments_lexer": "ipython3",
   "version": "3.10.0"
  }
 },
 "nbformat": 4,
 "nbformat_minor": 2
}
